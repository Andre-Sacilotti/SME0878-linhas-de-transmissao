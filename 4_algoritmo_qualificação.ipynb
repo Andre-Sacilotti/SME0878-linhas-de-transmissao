{
 "cells": [
  {
   "cell_type": "code",
   "execution_count": 1,
   "metadata": {},
   "outputs": [],
   "source": [
    "import tqdm\n",
    "import pandas as pd\n",
    "import numpy as np\n",
    "import matplotlib.pyplot as plt\n",
    "import seaborn as sns"
   ]
  },
  {
   "cell_type": "code",
   "execution_count": 2,
   "metadata": {},
   "outputs": [],
   "source": [
    "df_cad = pd.read_csv(\"./processed_data/cadastro.csv\")\n",
    "df_medicoes = pd.read_csv(\"./processed_data/medicoes_texto_corrigido.csv\")\n",
    "df_qualificacao = pd.read_csv(\"./processed_data/qualificacao.csv\")\n",
    "df_risco = pd.read_csv(\"./processed_data/risco_cluster.csv\")"
   ]
  },
  {
   "cell_type": "code",
   "execution_count": null,
   "metadata": {},
   "outputs": [],
   "source": []
  },
  {
   "cell_type": "markdown",
   "metadata": {},
   "source": [
    "## Qualificação das Medições"
   ]
  },
  {
   "cell_type": "markdown",
   "metadata": {},
   "source": [
    "$\n",
    "S \\;=\\; w_{d}\\,(1 - d_{\\mathrm{norm}}) \n",
    "    \\;+\\; w_{s}\\,\\frac{s_{\\mathrm{resp}} + s_{\\mathrm{coment}} + 2}{4} \n",
    "    \\;+\\; w_{r}\\,(1 - r)\n",
    "$\n",
    "\n",
    "d_norm -> Desvio normalizado da medição\n",
    "\n",
    "s_resp -> sentimento da categoria da resposta\n",
    "\n",
    "s_coment -> sentimento do Texto de comentario\n",
    "\n",
    "r -> risco do cluster"
   ]
  },
  {
   "cell_type": "code",
   "execution_count": 3,
   "metadata": {},
   "outputs": [],
   "source": [
    "map_ = {\n",
    "    'positivo': 1,\n",
    "    'negativo': -1,\n",
    "    'neutro': 0\n",
    "}\n",
    "df_medicoes['categoria_sentimento_int'] = df_medicoes['resposta_categoria_sentimento'].apply(lambda x: map_.get(x, 0))\n",
    "\n",
    "map_ = {\n",
    "    'Positivo': 1,\n",
    "    'Negativo': -1,\n",
    "    'Neutro': 0\n",
    "}\n",
    "df_medicoes['texto_classificado_int'] = df_medicoes['Texto_classificado'].apply(lambda x: map_.get(x, 0))\n",
    "\n",
    "df_medicoes['prop_risco_cluster'] = df_medicoes['prop_risco_cluster'].fillna(0)\n",
    "\n",
    "LIMITE_MAX = np.percentile(df_medicoes['desvio'][df_medicoes['desvio'] > 0], 95)\n",
    "d_clipped = np.clip(df_medicoes['desvio'], 0, LIMITE_MAX)  # LIMITE_MAX pode ser 5, 10, 20... baseado na distribuição\n",
    "d_norm = d_clipped / LIMITE_MAX\n",
    "\n",
    "# Peso do desvio. Menor porque é bem ruidoso\n",
    "w1 = 0.1\n",
    "# Peso do sentimento. \n",
    "w2 = 0.3\n",
    "# Peso do risco geografico.\n",
    "w3 = 0.6\n",
    "\n",
    "df_medicoes['score'] = (\n",
    "    w1*(1 - d_norm) +\n",
    "    w2*(df_medicoes['categoria_sentimento_int'] + df_medicoes['texto_classificado_int'] + 2)/4 +\n",
    "    w3*(1 - df_medicoes['prop_risco_cluster'])\n",
    ")\n",
    "\n",
    "\n",
    "def threshold_score(score):\n",
    "    if score <= 0.1:\n",
    "        return 0\n",
    "    elif score <= 0.2:\n",
    "        return 1\n",
    "    elif score <= 0.3:\n",
    "        return 2\n",
    "    elif score <= 0.5:\n",
    "        return 3\n",
    "    elif score <= 0.8:\n",
    "        return 4\n",
    "    else:\n",
    "        return 5\n",
    "\n",
    "    \n",
    "df_medicoes['nova_qualificacao'] = df_medicoes['score'].apply(threshold_score)"
   ]
  },
  {
   "cell_type": "code",
   "execution_count": 4,
   "metadata": {},
   "outputs": [],
   "source": [
    "df_medicoes.to_csv(\"./processed_data/medicoes_texto_corrigido.csv\", index=False)"
   ]
  },
  {
   "cell_type": "code",
   "execution_count": null,
   "metadata": {},
   "outputs": [],
   "source": []
  },
  {
   "cell_type": "markdown",
   "metadata": {},
   "source": [
    "## Qualificação das Torres"
   ]
  },
  {
   "cell_type": "code",
   "execution_count": 5,
   "metadata": {},
   "outputs": [
    {
     "data": {
      "text/plain": [
       "Equipamento\n",
       "100001                [2018-10-19]\n",
       "100002                [2018-10-19]\n",
       "100003    [2022-12-01, 2021-04-19]\n",
       "100004    [2024-10-11, 2023-12-07]\n",
       "100005                [2018-10-19]\n",
       "                    ...           \n",
       "323949                [2025-02-18]\n",
       "323954                [2025-02-18]\n",
       "323955                [2025-02-18]\n",
       "323957    [2025-02-18, 2025-02-18]\n",
       "323958                [2025-02-18]\n",
       "Name: Data, Length: 32021, dtype: object"
      ]
     },
     "execution_count": 5,
     "metadata": {},
     "output_type": "execute_result"
    }
   ],
   "source": [
    "# Listar 2 ultimas qualificações de cada torre\n",
    "\n",
    "df_medicoes_sorted = df_medicoes.sort_values(['Equipamento', 'Data'], ascending=[True, False])\n",
    "df_latest_dates = df_medicoes_sorted.groupby('Equipamento').head(2)\n",
    "df_latest_dates_grouped = df_latest_dates.groupby('Equipamento')['Data'].apply(list)\n",
    "df_latest_dates_grouped"
   ]
  },
  {
   "cell_type": "code",
   "execution_count": 6,
   "metadata": {},
   "outputs": [
    {
     "name": "stderr",
     "output_type": "stream",
     "text": [
      "32021it [00:51, 617.61it/s]\n"
     ]
    }
   ],
   "source": [
    "import tqdm\n",
    "\n",
    "data_qualificacao = []\n",
    "\n",
    "for equip_idx, dates in tqdm.tqdm(zip(df_latest_dates_grouped.index, df_latest_dates_grouped)):\n",
    "\n",
    "    aux_ = df_medicoes[df_medicoes['Equipamento'] == equip_idx]\n",
    "    aux_ = aux_[(aux_['Data'].isin(dates)) & (aux_['Data'] > '2022-01-01')]\n",
    "\n",
    "    if len(aux_) > 0:\n",
    "        score_torre = aux_['score'].mean()\n",
    "        nova_qualificacao = aux_['nova_qualificacao'].min()\n",
    "    else:\n",
    "        score_torre = -1\n",
    "        nova_qualificacao = 9\n",
    "\n",
    "    \n",
    "\n",
    "    data_qualificacao.append({\n",
    "        'Equipamento': equip_idx,\n",
    "        'Score': score_torre,\n",
    "        'Qualificacao': nova_qualificacao\n",
    "    })\n",
    "\n"
   ]
  },
  {
   "cell_type": "code",
   "execution_count": 7,
   "metadata": {},
   "outputs": [
    {
     "data": {
      "text/html": [
       "<div>\n",
       "<style scoped>\n",
       "    .dataframe tbody tr th:only-of-type {\n",
       "        vertical-align: middle;\n",
       "    }\n",
       "\n",
       "    .dataframe tbody tr th {\n",
       "        vertical-align: top;\n",
       "    }\n",
       "\n",
       "    .dataframe thead th {\n",
       "        text-align: right;\n",
       "    }\n",
       "</style>\n",
       "<table border=\"1\" class=\"dataframe\">\n",
       "  <thead>\n",
       "    <tr style=\"text-align: right;\">\n",
       "      <th></th>\n",
       "      <th>Equipamento</th>\n",
       "      <th>Score</th>\n",
       "      <th>Qualificacao</th>\n",
       "    </tr>\n",
       "  </thead>\n",
       "  <tbody>\n",
       "    <tr>\n",
       "      <th>0</th>\n",
       "      <td>100001</td>\n",
       "      <td>-1.000000</td>\n",
       "      <td>9</td>\n",
       "    </tr>\n",
       "    <tr>\n",
       "      <th>1</th>\n",
       "      <td>100002</td>\n",
       "      <td>-1.000000</td>\n",
       "      <td>9</td>\n",
       "    </tr>\n",
       "    <tr>\n",
       "      <th>2</th>\n",
       "      <td>100003</td>\n",
       "      <td>0.616929</td>\n",
       "      <td>4</td>\n",
       "    </tr>\n",
       "  </tbody>\n",
       "</table>\n",
       "</div>"
      ],
      "text/plain": [
       "   Equipamento     Score  Qualificacao\n",
       "0       100001 -1.000000             9\n",
       "1       100002 -1.000000             9\n",
       "2       100003  0.616929             4"
      ]
     },
     "execution_count": 7,
     "metadata": {},
     "output_type": "execute_result"
    }
   ],
   "source": [
    "df_nova_qualificacao = pd.DataFrame(data_qualificacao)\n",
    "df_nova_qualificacao.to_csv(\"./processed_data/nova_qualificacao_torre.csv\", index=False)\n",
    "\n",
    "\n",
    "df_nova_qualificacao.head(3)"
   ]
  },
  {
   "cell_type": "code",
   "execution_count": 8,
   "metadata": {},
   "outputs": [],
   "source": [
    "# Merge the new qualification dataframe with the cadastral dataframe\n",
    "df_merged = pd.merge(df_nova_qualificacao, df_cad, on='Equipamento', how='left')\n",
    "df_merged.to_csv(\"./processed_data/nova_qualificacao_torre.csv\", index=False)\n"
   ]
  },
  {
   "cell_type": "code",
   "execution_count": 9,
   "metadata": {},
   "outputs": [
    {
     "data": {
      "text/html": [
       "<div>\n",
       "<style scoped>\n",
       "    .dataframe tbody tr th:only-of-type {\n",
       "        vertical-align: middle;\n",
       "    }\n",
       "\n",
       "    .dataframe tbody tr th {\n",
       "        vertical-align: top;\n",
       "    }\n",
       "\n",
       "    .dataframe thead th {\n",
       "        text-align: right;\n",
       "    }\n",
       "</style>\n",
       "<table border=\"1\" class=\"dataframe\">\n",
       "  <thead>\n",
       "    <tr style=\"text-align: right;\">\n",
       "      <th></th>\n",
       "      <th>Equipamento</th>\n",
       "      <th>Score</th>\n",
       "      <th>Qualificacao</th>\n",
       "      <th>Linha de Transmissão</th>\n",
       "      <th>Denominação</th>\n",
       "      <th>Classe</th>\n",
       "      <th>Código ABC</th>\n",
       "      <th>Tensão</th>\n",
       "      <th>Latitude</th>\n",
       "      <th>Longitude</th>\n",
       "    </tr>\n",
       "  </thead>\n",
       "  <tbody>\n",
       "    <tr>\n",
       "      <th>0</th>\n",
       "      <td>100001</td>\n",
       "      <td>-1.0</td>\n",
       "      <td>9</td>\n",
       "      <td>LT9142</td>\n",
       "      <td>Torre 000-P</td>\n",
       "      <td>L_PORTICO</td>\n",
       "      <td>C</td>\n",
       "      <td>69</td>\n",
       "      <td>-24.108815</td>\n",
       "      <td>-49.324733</td>\n",
       "    </tr>\n",
       "    <tr>\n",
       "      <th>1</th>\n",
       "      <td>100002</td>\n",
       "      <td>-1.0</td>\n",
       "      <td>9</td>\n",
       "      <td>LT9142</td>\n",
       "      <td>Torre 001</td>\n",
       "      <td>L_TORRE_AUTOPORT</td>\n",
       "      <td>C</td>\n",
       "      <td>69</td>\n",
       "      <td>-24.108504</td>\n",
       "      <td>-49.324777</td>\n",
       "    </tr>\n",
       "    <tr>\n",
       "      <th>4</th>\n",
       "      <td>100005</td>\n",
       "      <td>-1.0</td>\n",
       "      <td>9</td>\n",
       "      <td>LT9142</td>\n",
       "      <td>Torre 004</td>\n",
       "      <td>L_TORRE_AUTOPORT</td>\n",
       "      <td>C</td>\n",
       "      <td>69</td>\n",
       "      <td>-24.106687</td>\n",
       "      <td>-49.316652</td>\n",
       "    </tr>\n",
       "    <tr>\n",
       "      <th>5</th>\n",
       "      <td>100006</td>\n",
       "      <td>-1.0</td>\n",
       "      <td>9</td>\n",
       "      <td>LT9142</td>\n",
       "      <td>Torre 005</td>\n",
       "      <td>L_TORRE_AUTOPORT</td>\n",
       "      <td>C</td>\n",
       "      <td>69</td>\n",
       "      <td>-24.106250</td>\n",
       "      <td>-49.315641</td>\n",
       "    </tr>\n",
       "    <tr>\n",
       "      <th>6</th>\n",
       "      <td>100007</td>\n",
       "      <td>-1.0</td>\n",
       "      <td>9</td>\n",
       "      <td>LT9142</td>\n",
       "      <td>Torre 006</td>\n",
       "      <td>L_TORRE_AUTOPORT</td>\n",
       "      <td>C</td>\n",
       "      <td>69</td>\n",
       "      <td>-24.105484</td>\n",
       "      <td>-49.313858</td>\n",
       "    </tr>\n",
       "    <tr>\n",
       "      <th>...</th>\n",
       "      <td>...</td>\n",
       "      <td>...</td>\n",
       "      <td>...</td>\n",
       "      <td>...</td>\n",
       "      <td>...</td>\n",
       "      <td>...</td>\n",
       "      <td>...</td>\n",
       "      <td>...</td>\n",
       "      <td>...</td>\n",
       "      <td>...</td>\n",
       "    </tr>\n",
       "    <tr>\n",
       "      <th>30965</th>\n",
       "      <td>292875</td>\n",
       "      <td>-1.0</td>\n",
       "      <td>9</td>\n",
       "      <td>LT027</td>\n",
       "      <td>Torre 037</td>\n",
       "      <td>L_TORRE_AUTOPORT</td>\n",
       "      <td>C</td>\n",
       "      <td>138</td>\n",
       "      <td>-22.190966</td>\n",
       "      <td>-48.043069</td>\n",
       "    </tr>\n",
       "    <tr>\n",
       "      <th>30967</th>\n",
       "      <td>292877</td>\n",
       "      <td>-1.0</td>\n",
       "      <td>9</td>\n",
       "      <td>LT027</td>\n",
       "      <td>Torre 039</td>\n",
       "      <td>L_TORRE_AUTOPORT</td>\n",
       "      <td>C</td>\n",
       "      <td>138</td>\n",
       "      <td>-22.186675</td>\n",
       "      <td>-48.038398</td>\n",
       "    </tr>\n",
       "    <tr>\n",
       "      <th>30988</th>\n",
       "      <td>292898</td>\n",
       "      <td>-1.0</td>\n",
       "      <td>9</td>\n",
       "      <td>LT027</td>\n",
       "      <td>Torre 060</td>\n",
       "      <td>L_TORRE_AUTOPORT</td>\n",
       "      <td>C</td>\n",
       "      <td>138</td>\n",
       "      <td>-22.140626</td>\n",
       "      <td>-47.988286</td>\n",
       "    </tr>\n",
       "    <tr>\n",
       "      <th>31105</th>\n",
       "      <td>293530</td>\n",
       "      <td>-1.0</td>\n",
       "      <td>9</td>\n",
       "      <td>LT4185</td>\n",
       "      <td>Torre 091A</td>\n",
       "      <td>L_TORRE_AUTOPORT</td>\n",
       "      <td>C</td>\n",
       "      <td>440</td>\n",
       "      <td>-21.593494</td>\n",
       "      <td>-51.610768</td>\n",
       "    </tr>\n",
       "    <tr>\n",
       "      <th>31110</th>\n",
       "      <td>293535</td>\n",
       "      <td>-1.0</td>\n",
       "      <td>9</td>\n",
       "      <td>LT4185</td>\n",
       "      <td>Torre 096A</td>\n",
       "      <td>L_TORRE_AUTOPORT</td>\n",
       "      <td>C</td>\n",
       "      <td>440</td>\n",
       "      <td>-21.595456</td>\n",
       "      <td>-51.636513</td>\n",
       "    </tr>\n",
       "  </tbody>\n",
       "</table>\n",
       "<p>6199 rows × 10 columns</p>\n",
       "</div>"
      ],
      "text/plain": [
       "       Equipamento  Score  Qualificacao Linha de Transmissão  Denominação  \\\n",
       "0           100001   -1.0             9               LT9142  Torre 000-P   \n",
       "1           100002   -1.0             9               LT9142    Torre 001   \n",
       "4           100005   -1.0             9               LT9142    Torre 004   \n",
       "5           100006   -1.0             9               LT9142    Torre 005   \n",
       "6           100007   -1.0             9               LT9142    Torre 006   \n",
       "...            ...    ...           ...                  ...          ...   \n",
       "30965       292875   -1.0             9                LT027    Torre 037   \n",
       "30967       292877   -1.0             9                LT027    Torre 039   \n",
       "30988       292898   -1.0             9                LT027    Torre 060   \n",
       "31105       293530   -1.0             9               LT4185   Torre 091A   \n",
       "31110       293535   -1.0             9               LT4185   Torre 096A   \n",
       "\n",
       "                 Classe Código ABC  Tensão   Latitude  Longitude  \n",
       "0             L_PORTICO          C      69 -24.108815 -49.324733  \n",
       "1      L_TORRE_AUTOPORT          C      69 -24.108504 -49.324777  \n",
       "4      L_TORRE_AUTOPORT          C      69 -24.106687 -49.316652  \n",
       "5      L_TORRE_AUTOPORT          C      69 -24.106250 -49.315641  \n",
       "6      L_TORRE_AUTOPORT          C      69 -24.105484 -49.313858  \n",
       "...                 ...        ...     ...        ...        ...  \n",
       "30965  L_TORRE_AUTOPORT          C     138 -22.190966 -48.043069  \n",
       "30967  L_TORRE_AUTOPORT          C     138 -22.186675 -48.038398  \n",
       "30988  L_TORRE_AUTOPORT          C     138 -22.140626 -47.988286  \n",
       "31105  L_TORRE_AUTOPORT          C     440 -21.593494 -51.610768  \n",
       "31110  L_TORRE_AUTOPORT          C     440 -21.595456 -51.636513  \n",
       "\n",
       "[6199 rows x 10 columns]"
      ]
     },
     "execution_count": 9,
     "metadata": {},
     "output_type": "execute_result"
    }
   ],
   "source": [
    "df_merged[df_merged['Qualificacao'] == 9]"
   ]
  },
  {
   "cell_type": "code",
   "execution_count": 10,
   "metadata": {},
   "outputs": [
    {
     "data": {
      "text/plain": [
       "Equipamento\n",
       "100001                [2018-10-19]\n",
       "100002                [2018-10-19]\n",
       "100003    [2022-12-01, 2021-04-19]\n",
       "100004    [2024-10-11, 2023-12-07]\n",
       "100005                [2018-10-19]\n",
       "                    ...           \n",
       "323949                [2025-02-18]\n",
       "323954                [2025-02-18]\n",
       "323955                [2025-02-18]\n",
       "323957    [2025-02-18, 2025-02-18]\n",
       "323958                [2025-02-18]\n",
       "Name: Data, Length: 32021, dtype: object"
      ]
     },
     "execution_count": 10,
     "metadata": {},
     "output_type": "execute_result"
    }
   ],
   "source": [
    "df_latest_dates_grouped"
   ]
  },
  {
   "cell_type": "markdown",
   "metadata": {},
   "source": [
    "## Saude das Linhas de Transmissão"
   ]
  },
  {
   "cell_type": "code",
   "execution_count": 11,
   "metadata": {},
   "outputs": [
    {
     "name": "stderr",
     "output_type": "stream",
     "text": [
      "32021it [00:51, 627.63it/s]\n"
     ]
    }
   ],
   "source": [
    "avg_score = {}\n",
    "\n",
    "for equip_idx, dates in tqdm.tqdm(zip(df_latest_dates_grouped.index, df_latest_dates_grouped)):\n",
    "\n",
    "    aux_ = df_medicoes[df_medicoes['Equipamento'] == equip_idx]\n",
    "    aux_ = aux_[(aux_['Data'].isin(dates)) & (aux_['Data'] > '2022-01-01')]\n",
    "    \n",
    "    if len(aux_) > 0:\n",
    "        line_id = aux_['Linha de Transmissão_y'].values[0]\n",
    "\n",
    "\n",
    "        if line_id not in avg_score:\n",
    "            avg_score[line_id] = []\n",
    "\n",
    "        avg_score[line_id].append(aux_['score'].mean())\n",
    "\n",
    "\n",
    "\n",
    "\n",
    "\n"
   ]
  },
  {
   "cell_type": "code",
   "execution_count": 12,
   "metadata": {},
   "outputs": [
    {
     "data": {
      "image/png": "[encoded data removed]",
      "text/plain": [
       "<Figure size 1000x600 with 1 Axes>"
      ]
     },
     "metadata": {},
     "output_type": "display_data"
    }
   ],
   "source": [
    "bom_estado = sum([(sum(v)/len(v))>0.7 for k,v in avg_score.items()])\n",
    "requer_atencao = sum([(sum(v)/len(v))>0.5 and (sum(v)/len(v))<0.7 for k,v in avg_score.items()])\n",
    "critico = sum([(sum(v)/len(v))<0.5 for k,v in avg_score.items()])\n",
    "\n",
    "import matplotlib.pyplot as plt\n",
    "\n",
    "# Create bar plot\n",
    "estados = ['Bom Estado', 'Requer Atenção', 'Crítico']\n",
    "valores = [bom_estado, requer_atencao, critico]\n",
    "\n",
    "plt.figure(figsize=(10, 6))\n",
    "bars = plt.bar(estados, valores, color=['green', 'orange', 'red'], alpha=0.7, edgecolor='black')\n",
    "\n",
    "# Add value labels on top of bars\n",
    "for bar, valor in zip(bars, valores):\n",
    "    plt.text(bar.get_x() + bar.get_width()/2, bar.get_height() + 0.5, \n",
    "             str(valor), ha='center', va='bottom', fontsize=12, fontweight='bold')\n",
    "\n",
    "plt.xlabel('Estado da Linha de Transmissão')\n",
    "plt.ylabel('Quantidade de Linhas')\n",
    "# plt.title('Distribuição do Estado de Saúde das Linhas de Transmissão')\n",
    "plt.grid(True, alpha=0.3, axis='y')\n",
    "# plt.show()\n",
    "plt.savefig(\"./estado_saude_linhas.png\")\n"
   ]
  },
  {
   "cell_type": "code",
   "execution_count": 13,
   "metadata": {},
   "outputs": [
    {
     "data": {
      "text/plain": [
       "['LT261', 'LT1226', 'LT297', 'LT6157', 'LT6199', 'LT6201']"
      ]
     },
     "execution_count": 13,
     "metadata": {},
     "output_type": "execute_result"
    }
   ],
   "source": [
    "[k for k,v in avg_score.items() if (sum(v)/len(v))<0.5]"
   ]
  },
  {
   "cell_type": "code",
   "execution_count": null,
   "metadata": {},
   "outputs": [],
   "source": []
  }
 ],
 "metadata": {
  "kernelspec": {
   "display_name": "base",
   "language": "python",
   "name": "python3"
  },
  "language_info": {
   "codemirror_mode": {
    "name": "ipython",
    "version": 3
   },
   "file_extension": ".py",
   "mimetype": "text/x-python",
   "name": "python",
   "nbconvert_exporter": "python",
   "pygments_lexer": "ipython3",
   "version": "3.11.5"
  }
 },
 "nbformat": 4,
 "nbformat_minor": 2
}
