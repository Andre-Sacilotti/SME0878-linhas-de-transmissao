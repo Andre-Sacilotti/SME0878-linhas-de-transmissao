{
 "cells": [
  {
   "cell_type": "markdown",
   "metadata": {},
   "source": [
    "## 0. Definição de Bibliotecas e Funções Auxiliares"
   ]
  },
  {
   "cell_type": "code",
   "execution_count": 3,
   "metadata": {},
   "outputs": [],
   "source": [
    "# Ignorar alertas\n",
    "import warnings\n",
    "warnings.filterwarnings('ignore')\n",
    "\n",
    "import pandas as pd\n",
    "import numpy as np\n",
    "import seaborn as sns\n",
    "import matplotlib.pyplot as plt\n",
    "from sklearn.model_selection import train_test_split\n",
    "from sklearn import tree\n",
    "from sklearn.tree import DecisionTreeClassifier,DecisionTreeRegressor\n",
    "from sklearn import metrics\n",
    "from sklearn.preprocessing import OneHotEncoder\n",
    "from sklearn.preprocessing import LabelEncoder\n",
    "from skopt import BayesSearchCV\n",
    "from skopt.space import Integer, Real\n",
    "from sklearn import metrics\n",
    "from sklearn.metrics import (f1_score,accuracy_score,recall_score,precision_score,confusion_matrix,roc_auc_score,mean_squared_error,r2_score)"
   ]
  },
  {
   "cell_type": "markdown",
   "metadata": {},
   "source": [
    "## 1. Leitura dos Dados"
   ]
  },
  {
   "cell_type": "code",
   "execution_count": 4,
   "metadata": {},
   "outputs": [],
   "source": [
    "df_medicoes = pd.read_csv('./data/BD_Linhas-de-Transmissão(Documentos de Medição).csv', encoding='latin-1', sep=';')\n",
    "df_cadastro = pd.read_csv('./data/BD_Linhas-de-Transmissão(Cadastro).csv', encoding='latin-1', sep=';')\n",
    "\n",
    "df_qualificacao = df_medicoes[df_medicoes['Item medição'] == 'TORRE']\n",
    "df_medicoes = df_medicoes[df_medicoes['Item medição'] != 'TORRE']"
   ]
  },
  {
   "cell_type": "code",
   "execution_count": 5,
   "metadata": {},
   "outputs": [
    {
     "data": {
      "text/html": [
       "<div>\n",
       "<style scoped>\n",
       "    .dataframe tbody tr th:only-of-type {\n",
       "        vertical-align: middle;\n",
       "    }\n",
       "\n",
       "    .dataframe tbody tr th {\n",
       "        vertical-align: top;\n",
       "    }\n",
       "\n",
       "    .dataframe thead th {\n",
       "        text-align: right;\n",
       "    }\n",
       "</style>\n",
       "<table border=\"1\" class=\"dataframe\">\n",
       "  <thead>\n",
       "    <tr style=\"text-align: right;\">\n",
       "      <th></th>\n",
       "      <th>Equipamento</th>\n",
       "      <th>Ponto medição</th>\n",
       "      <th>Doc.medição</th>\n",
       "      <th>Data</th>\n",
       "      <th>Item medição</th>\n",
       "      <th>Valor teórico</th>\n",
       "      <th>LimInfIntMed.</th>\n",
       "      <th>LimSupIntMed.</th>\n",
       "      <th>ValMed/PosTCont</th>\n",
       "      <th>Unid.caracter.</th>\n",
       "      <th>Cód.valorização</th>\n",
       "      <th>Txt.code codif.</th>\n",
       "      <th>Denominação</th>\n",
       "      <th>Texto</th>\n",
       "    </tr>\n",
       "  </thead>\n",
       "  <tbody>\n",
       "    <tr>\n",
       "      <th>23</th>\n",
       "      <td>294939</td>\n",
       "      <td>9283757</td>\n",
       "      <td>7983160</td>\n",
       "      <td>18/02/2025</td>\n",
       "      <td>TORRE</td>\n",
       "      <td>NaN</td>\n",
       "      <td>0,00</td>\n",
       "      <td>NaN</td>\n",
       "      <td>5,00</td>\n",
       "      <td>UN</td>\n",
       "      <td>NaN</td>\n",
       "      <td>NaN</td>\n",
       "      <td>Qualificacao do Equipamento</td>\n",
       "      <td>D:0*1/ 0*2/ 0*3/ 0*4/ 2*5/ 165*9</td>\n",
       "    </tr>\n",
       "    <tr>\n",
       "      <th>24</th>\n",
       "      <td>294939</td>\n",
       "      <td>9283757</td>\n",
       "      <td>3692788</td>\n",
       "      <td>02/02/2022</td>\n",
       "      <td>TORRE</td>\n",
       "      <td>NaN</td>\n",
       "      <td>0,00</td>\n",
       "      <td>NaN</td>\n",
       "      <td>9,00</td>\n",
       "      <td>UN</td>\n",
       "      <td>NaN</td>\n",
       "      <td>NaN</td>\n",
       "      <td>Qualificacao do Equipamento</td>\n",
       "      <td>D:0*1/ 0*2/ 0*3/ 0*4/ 0*5/ 167*9</td>\n",
       "    </tr>\n",
       "    <tr>\n",
       "      <th>26</th>\n",
       "      <td>294938</td>\n",
       "      <td>9283589</td>\n",
       "      <td>7983161</td>\n",
       "      <td>18/02/2025</td>\n",
       "      <td>TORRE</td>\n",
       "      <td>NaN</td>\n",
       "      <td>0,00</td>\n",
       "      <td>NaN</td>\n",
       "      <td>4,00</td>\n",
       "      <td>UN</td>\n",
       "      <td>NaN</td>\n",
       "      <td>NaN</td>\n",
       "      <td>Qualificacao do Equipamento</td>\n",
       "      <td>ENTULHO. D:0*1/ 0*2/ 0*3/ 1*4/ 2*5/ 164*</td>\n",
       "    </tr>\n",
       "    <tr>\n",
       "      <th>27</th>\n",
       "      <td>294938</td>\n",
       "      <td>9283589</td>\n",
       "      <td>4758120</td>\n",
       "      <td>05/05/2023</td>\n",
       "      <td>TORRE</td>\n",
       "      <td>NaN</td>\n",
       "      <td>0,00</td>\n",
       "      <td>NaN</td>\n",
       "      <td>5,00</td>\n",
       "      <td>UN</td>\n",
       "      <td>NaN</td>\n",
       "      <td>NaN</td>\n",
       "      <td>Qualificacao do Equipamento</td>\n",
       "      <td>D:0*1/ 0*2/ 0*3/ 0*4/ 2*5/ 165*9</td>\n",
       "    </tr>\n",
       "    <tr>\n",
       "      <th>28</th>\n",
       "      <td>294938</td>\n",
       "      <td>9283589</td>\n",
       "      <td>3692787</td>\n",
       "      <td>02/02/2022</td>\n",
       "      <td>TORRE</td>\n",
       "      <td>NaN</td>\n",
       "      <td>0,00</td>\n",
       "      <td>NaN</td>\n",
       "      <td>9,00</td>\n",
       "      <td>UN</td>\n",
       "      <td>NaN</td>\n",
       "      <td>NaN</td>\n",
       "      <td>Qualificacao do Equipamento</td>\n",
       "      <td>D:0*1/ 0*2/ 0*3/ 0*4/ 0*5/ 167*9</td>\n",
       "    </tr>\n",
       "  </tbody>\n",
       "</table>\n",
       "</div>"
      ],
      "text/plain": [
       "    Equipamento  Ponto medição  Doc.medição        Data Item medição  \\\n",
       "23       294939        9283757      7983160  18/02/2025        TORRE   \n",
       "24       294939        9283757      3692788  02/02/2022        TORRE   \n",
       "26       294938        9283589      7983161  18/02/2025        TORRE   \n",
       "27       294938        9283589      4758120  05/05/2023        TORRE   \n",
       "28       294938        9283589      3692787  02/02/2022        TORRE   \n",
       "\n",
       "   Valor teórico LimInfIntMed. LimSupIntMed. ValMed/PosTCont Unid.caracter.  \\\n",
       "23           NaN          0,00           NaN            5,00             UN   \n",
       "24           NaN          0,00           NaN            9,00             UN   \n",
       "26           NaN          0,00           NaN            4,00             UN   \n",
       "27           NaN          0,00           NaN            5,00             UN   \n",
       "28           NaN          0,00           NaN            9,00             UN   \n",
       "\n",
       "    Cód.valorização Txt.code codif.                  Denominação  \\\n",
       "23              NaN             NaN  Qualificacao do Equipamento   \n",
       "24              NaN             NaN  Qualificacao do Equipamento   \n",
       "26              NaN             NaN  Qualificacao do Equipamento   \n",
       "27              NaN             NaN  Qualificacao do Equipamento   \n",
       "28              NaN             NaN  Qualificacao do Equipamento   \n",
       "\n",
       "                                       Texto  \n",
       "23          D:0*1/ 0*2/ 0*3/ 0*4/ 2*5/ 165*9  \n",
       "24          D:0*1/ 0*2/ 0*3/ 0*4/ 0*5/ 167*9  \n",
       "26  ENTULHO. D:0*1/ 0*2/ 0*3/ 1*4/ 2*5/ 164*  \n",
       "27          D:0*1/ 0*2/ 0*3/ 0*4/ 2*5/ 165*9  \n",
       "28          D:0*1/ 0*2/ 0*3/ 0*4/ 0*5/ 167*9  "
      ]
     },
     "execution_count": 5,
     "metadata": {},
     "output_type": "execute_result"
    }
   ],
   "source": [
    "df_qualificacao.head()"
   ]
  },
  {
   "cell_type": "code",
   "execution_count": 6,
   "metadata": {},
   "outputs": [
    {
     "data": {
      "text/html": [
       "<div>\n",
       "<style scoped>\n",
       "    .dataframe tbody tr th:only-of-type {\n",
       "        vertical-align: middle;\n",
       "    }\n",
       "\n",
       "    .dataframe tbody tr th {\n",
       "        vertical-align: top;\n",
       "    }\n",
       "\n",
       "    .dataframe thead th {\n",
       "        text-align: right;\n",
       "    }\n",
       "</style>\n",
       "<table border=\"1\" class=\"dataframe\">\n",
       "  <thead>\n",
       "    <tr style=\"text-align: right;\">\n",
       "      <th></th>\n",
       "      <th>Equipamento</th>\n",
       "      <th>Ponto medição</th>\n",
       "      <th>Doc.medição</th>\n",
       "      <th>Data</th>\n",
       "      <th>Item medição</th>\n",
       "      <th>Valor teórico</th>\n",
       "      <th>LimInfIntMed.</th>\n",
       "      <th>LimSupIntMed.</th>\n",
       "      <th>ValMed/PosTCont</th>\n",
       "      <th>Unid.caracter.</th>\n",
       "      <th>Cód.valorização</th>\n",
       "      <th>Txt.code codif.</th>\n",
       "      <th>Denominação</th>\n",
       "      <th>Texto</th>\n",
       "    </tr>\n",
       "  </thead>\n",
       "  <tbody>\n",
       "    <tr>\n",
       "      <th>0</th>\n",
       "      <td>323958</td>\n",
       "      <td>10155659</td>\n",
       "      <td>7991396</td>\n",
       "      <td>18/02/2025</td>\n",
       "      <td>VÃO</td>\n",
       "      <td>0,00</td>\n",
       "      <td>0,00</td>\n",
       "      <td>100,00</td>\n",
       "      <td>1.500,00</td>\n",
       "      <td>m2</td>\n",
       "      <td>3.0</td>\n",
       "      <td>FIM DO VAO</td>\n",
       "      <td>ROCADA MECANIZADA</td>\n",
       "      <td>Roçada mecanizada no final do vão 50x30.</td>\n",
       "    </tr>\n",
       "    <tr>\n",
       "      <th>1</th>\n",
       "      <td>323957</td>\n",
       "      <td>10155490</td>\n",
       "      <td>7991397</td>\n",
       "      <td>18/02/2025</td>\n",
       "      <td>VÃO</td>\n",
       "      <td>0,00</td>\n",
       "      <td>0,00</td>\n",
       "      <td>100,00</td>\n",
       "      <td>5.400,00</td>\n",
       "      <td>m2</td>\n",
       "      <td>1.0</td>\n",
       "      <td>INICIO DO VAO</td>\n",
       "      <td>ROCADA MANUAL</td>\n",
       "      <td>Roçada manual no início do vão 180x30. R</td>\n",
       "    </tr>\n",
       "    <tr>\n",
       "      <th>2</th>\n",
       "      <td>323957</td>\n",
       "      <td>10155491</td>\n",
       "      <td>7991398</td>\n",
       "      <td>18/02/2025</td>\n",
       "      <td>VÃO</td>\n",
       "      <td>0,00</td>\n",
       "      <td>0,00</td>\n",
       "      <td>100,00</td>\n",
       "      <td>3.600,00</td>\n",
       "      <td>m2</td>\n",
       "      <td>5.0</td>\n",
       "      <td>MEIO E FIM DO VAO</td>\n",
       "      <td>ROCADA MECANIZADA</td>\n",
       "      <td>Roçada mecanizada no meio e fim do vão 1</td>\n",
       "    </tr>\n",
       "    <tr>\n",
       "      <th>3</th>\n",
       "      <td>323955</td>\n",
       "      <td>10155322</td>\n",
       "      <td>7991399</td>\n",
       "      <td>18/02/2025</td>\n",
       "      <td>VÃO</td>\n",
       "      <td>0,00</td>\n",
       "      <td>0,00</td>\n",
       "      <td>100,00</td>\n",
       "      <td>6.000,00</td>\n",
       "      <td>m2</td>\n",
       "      <td>5.0</td>\n",
       "      <td>MEIO E FIM DO VAO</td>\n",
       "      <td>ROCADA MANUAL</td>\n",
       "      <td>Roçada manual no meio e fim do vão 200x3</td>\n",
       "    </tr>\n",
       "    <tr>\n",
       "      <th>4</th>\n",
       "      <td>323954</td>\n",
       "      <td>10155155</td>\n",
       "      <td>7991400</td>\n",
       "      <td>18/02/2025</td>\n",
       "      <td>VÃO</td>\n",
       "      <td>0,00</td>\n",
       "      <td>0,00</td>\n",
       "      <td>100,00</td>\n",
       "      <td>10.350,00</td>\n",
       "      <td>m2</td>\n",
       "      <td>7.0</td>\n",
       "      <td>VAO COMPLETO</td>\n",
       "      <td>ROCADA MECANIZADA</td>\n",
       "      <td>Roçada mecanizada vão total 345x30.  Rel</td>\n",
       "    </tr>\n",
       "  </tbody>\n",
       "</table>\n",
       "</div>"
      ],
      "text/plain": [
       "   Equipamento  Ponto medição  Doc.medição        Data Item medição  \\\n",
       "0       323958       10155659      7991396  18/02/2025          VÃO   \n",
       "1       323957       10155490      7991397  18/02/2025          VÃO   \n",
       "2       323957       10155491      7991398  18/02/2025          VÃO   \n",
       "3       323955       10155322      7991399  18/02/2025          VÃO   \n",
       "4       323954       10155155      7991400  18/02/2025          VÃO   \n",
       "\n",
       "  Valor teórico LimInfIntMed. LimSupIntMed. ValMed/PosTCont Unid.caracter.  \\\n",
       "0          0,00          0,00        100,00        1.500,00             m2   \n",
       "1          0,00          0,00        100,00        5.400,00             m2   \n",
       "2          0,00          0,00        100,00        3.600,00             m2   \n",
       "3          0,00          0,00        100,00        6.000,00             m2   \n",
       "4          0,00          0,00        100,00       10.350,00             m2   \n",
       "\n",
       "   Cód.valorização    Txt.code codif.        Denominação  \\\n",
       "0              3.0         FIM DO VAO  ROCADA MECANIZADA   \n",
       "1              1.0      INICIO DO VAO      ROCADA MANUAL   \n",
       "2              5.0  MEIO E FIM DO VAO  ROCADA MECANIZADA   \n",
       "3              5.0  MEIO E FIM DO VAO      ROCADA MANUAL   \n",
       "4              7.0       VAO COMPLETO  ROCADA MECANIZADA   \n",
       "\n",
       "                                      Texto  \n",
       "0  Roçada mecanizada no final do vão 50x30.  \n",
       "1  Roçada manual no início do vão 180x30. R  \n",
       "2  Roçada mecanizada no meio e fim do vão 1  \n",
       "3  Roçada manual no meio e fim do vão 200x3  \n",
       "4  Roçada mecanizada vão total 345x30.  Rel  "
      ]
     },
     "execution_count": 6,
     "metadata": {},
     "output_type": "execute_result"
    }
   ],
   "source": [
    "df_medicoes.head()"
   ]
  },
  {
   "cell_type": "code",
   "execution_count": 7,
   "metadata": {},
   "outputs": [
    {
     "data": {
      "text/html": [
       "<div>\n",
       "<style scoped>\n",
       "    .dataframe tbody tr th:only-of-type {\n",
       "        vertical-align: middle;\n",
       "    }\n",
       "\n",
       "    .dataframe tbody tr th {\n",
       "        vertical-align: top;\n",
       "    }\n",
       "\n",
       "    .dataframe thead th {\n",
       "        text-align: right;\n",
       "    }\n",
       "</style>\n",
       "<table border=\"1\" class=\"dataframe\">\n",
       "  <thead>\n",
       "    <tr style=\"text-align: right;\">\n",
       "      <th></th>\n",
       "      <th>Equipamento</th>\n",
       "      <th>Linha de Transmissão</th>\n",
       "      <th>Denominação</th>\n",
       "      <th>Dt.entr.serviço</th>\n",
       "      <th>Classe</th>\n",
       "      <th>Código ABC</th>\n",
       "      <th>Tensão</th>\n",
       "      <th>Latitude</th>\n",
       "      <th>Longitude</th>\n",
       "    </tr>\n",
       "  </thead>\n",
       "  <tbody>\n",
       "    <tr>\n",
       "      <th>0</th>\n",
       "      <td>115280</td>\n",
       "      <td>LT31</td>\n",
       "      <td>Torre 111</td>\n",
       "      <td>NaN</td>\n",
       "      <td>L_TORRE_AUTOPORT</td>\n",
       "      <td>C</td>\n",
       "      <td>230</td>\n",
       "      <td>-22,9776099</td>\n",
       "      <td>-50,0565232</td>\n",
       "    </tr>\n",
       "    <tr>\n",
       "      <th>1</th>\n",
       "      <td>115281</td>\n",
       "      <td>LT31</td>\n",
       "      <td>Torre 112</td>\n",
       "      <td>NaN</td>\n",
       "      <td>L_TORRE_AUTOPORT</td>\n",
       "      <td>C</td>\n",
       "      <td>230</td>\n",
       "      <td>-22,9791718</td>\n",
       "      <td>-50,0531681</td>\n",
       "    </tr>\n",
       "    <tr>\n",
       "      <th>2</th>\n",
       "      <td>115282</td>\n",
       "      <td>LT31</td>\n",
       "      <td>Torre 113</td>\n",
       "      <td>NaN</td>\n",
       "      <td>L_TORRE_AUTOPORT</td>\n",
       "      <td>C</td>\n",
       "      <td>230</td>\n",
       "      <td>-22,9808738</td>\n",
       "      <td>-50,0494992</td>\n",
       "    </tr>\n",
       "    <tr>\n",
       "      <th>3</th>\n",
       "      <td>115283</td>\n",
       "      <td>LT31</td>\n",
       "      <td>Torre 114</td>\n",
       "      <td>NaN</td>\n",
       "      <td>L_TORRE_AUTOPORT</td>\n",
       "      <td>C</td>\n",
       "      <td>230</td>\n",
       "      <td>-22,9830172</td>\n",
       "      <td>-50,0449193</td>\n",
       "    </tr>\n",
       "    <tr>\n",
       "      <th>4</th>\n",
       "      <td>115284</td>\n",
       "      <td>LT31</td>\n",
       "      <td>Torre 115</td>\n",
       "      <td>NaN</td>\n",
       "      <td>L_TORRE_AUTOPORT</td>\n",
       "      <td>C</td>\n",
       "      <td>230</td>\n",
       "      <td>-22,9846747</td>\n",
       "      <td>-50,0413489</td>\n",
       "    </tr>\n",
       "  </tbody>\n",
       "</table>\n",
       "</div>"
      ],
      "text/plain": [
       "   Equipamento Linha de Transmissão Denominação Dt.entr.serviço  \\\n",
       "0       115280                 LT31   Torre 111             NaN   \n",
       "1       115281                 LT31   Torre 112             NaN   \n",
       "2       115282                 LT31   Torre 113             NaN   \n",
       "3       115283                 LT31   Torre 114             NaN   \n",
       "4       115284                 LT31   Torre 115             NaN   \n",
       "\n",
       "             Classe Código ABC  Tensão     Latitude    Longitude  \n",
       "0  L_TORRE_AUTOPORT          C     230  -22,9776099  -50,0565232  \n",
       "1  L_TORRE_AUTOPORT          C     230  -22,9791718  -50,0531681  \n",
       "2  L_TORRE_AUTOPORT          C     230  -22,9808738  -50,0494992  \n",
       "3  L_TORRE_AUTOPORT          C     230  -22,9830172  -50,0449193  \n",
       "4  L_TORRE_AUTOPORT          C     230  -22,9846747  -50,0413489  "
      ]
     },
     "execution_count": 7,
     "metadata": {},
     "output_type": "execute_result"
    }
   ],
   "source": [
    "df_cadastro.head()"
   ]
  },
  {
   "cell_type": "markdown",
   "metadata": {},
   "source": [
    "## 2. Analise de Dados Faltantes"
   ]
  },
  {
   "cell_type": "markdown",
   "metadata": {},
   "source": [
    "### 2.1. Dados Faltes na Base de Cadastro\n",
    "\n",
    "Nessa seção, descrevemos os dados faltantes na base de dados de cadastro. A maior parte dos dados faltantes se concentra em Latitude e Longitudade e mais algumas poucas classes faltantes"
   ]
  },
  {
   "cell_type": "code",
   "execution_count": 12,
   "metadata": {},
   "outputs": [
    {
     "ename": "KeyError",
     "evalue": "'Dt.entr.serviço'",
     "output_type": "error",
     "traceback": [
      "\u001b[0;31m---------------------------------------------------------------------------\u001b[0m",
      "\u001b[0;31mKeyError\u001b[0m                                  Traceback (most recent call last)",
      "File \u001b[0;32m~/anaconda3/lib/python3.11/site-packages/pandas/core/indexes/base.py:3653\u001b[0m, in \u001b[0;36mIndex.get_loc\u001b[0;34m(self, key)\u001b[0m\n\u001b[1;32m   3652\u001b[0m \u001b[38;5;28;01mtry\u001b[39;00m:\n\u001b[0;32m-> 3653\u001b[0m     \u001b[38;5;28;01mreturn\u001b[39;00m \u001b[38;5;28mself\u001b[39m\u001b[38;5;241m.\u001b[39m_engine\u001b[38;5;241m.\u001b[39mget_loc(casted_key)\n\u001b[1;32m   3654\u001b[0m \u001b[38;5;28;01mexcept\u001b[39;00m \u001b[38;5;167;01mKeyError\u001b[39;00m \u001b[38;5;28;01mas\u001b[39;00m err:\n",
      "File \u001b[0;32m~/anaconda3/lib/python3.11/site-packages/pandas/_libs/index.pyx:147\u001b[0m, in \u001b[0;36mpandas._libs.index.IndexEngine.get_loc\u001b[0;34m()\u001b[0m\n",
      "File \u001b[0;32m~/anaconda3/lib/python3.11/site-packages/pandas/_libs/index.pyx:176\u001b[0m, in \u001b[0;36mpandas._libs.index.IndexEngine.get_loc\u001b[0;34m()\u001b[0m\n",
      "File \u001b[0;32mpandas/_libs/hashtable_class_helper.pxi:7080\u001b[0m, in \u001b[0;36mpandas._libs.hashtable.PyObjectHashTable.get_item\u001b[0;34m()\u001b[0m\n",
      "File \u001b[0;32mpandas/_libs/hashtable_class_helper.pxi:7088\u001b[0m, in \u001b[0;36mpandas._libs.hashtable.PyObjectHashTable.get_item\u001b[0;34m()\u001b[0m\n",
      "\u001b[0;31mKeyError\u001b[0m: 'Dt.entr.serviço'",
      "\nThe above exception was the direct cause of the following exception:\n",
      "\u001b[0;31mKeyError\u001b[0m                                  Traceback (most recent call last)",
      "Cell \u001b[0;32mIn[12], line 1\u001b[0m\n\u001b[0;32m----> 1\u001b[0m \u001b[38;5;28;01mdel\u001b[39;00m df_cadastro[\u001b[38;5;124m'\u001b[39m\u001b[38;5;124mDt.entr.serviço\u001b[39m\u001b[38;5;124m'\u001b[39m]\n\u001b[1;32m      3\u001b[0m df_cadastro[\u001b[38;5;124m'\u001b[39m\u001b[38;5;124mLatitude\u001b[39m\u001b[38;5;124m'\u001b[39m] \u001b[38;5;241m=\u001b[39m df_cadastro[\u001b[38;5;124m'\u001b[39m\u001b[38;5;124mLatitude\u001b[39m\u001b[38;5;124m'\u001b[39m]\u001b[38;5;241m.\u001b[39mreplace(\u001b[38;5;124m'\u001b[39m\u001b[38;5;124m#N/D\u001b[39m\u001b[38;5;124m'\u001b[39m, pd\u001b[38;5;241m.\u001b[39mNA)\n\u001b[1;32m      4\u001b[0m df_cadastro[\u001b[38;5;124m'\u001b[39m\u001b[38;5;124mLongitude\u001b[39m\u001b[38;5;124m'\u001b[39m] \u001b[38;5;241m=\u001b[39m df_cadastro[\u001b[38;5;124m'\u001b[39m\u001b[38;5;124mLongitude\u001b[39m\u001b[38;5;124m'\u001b[39m]\u001b[38;5;241m.\u001b[39mreplace(\u001b[38;5;124m'\u001b[39m\u001b[38;5;124m#N/D\u001b[39m\u001b[38;5;124m'\u001b[39m, pd\u001b[38;5;241m.\u001b[39mNA)\n",
      "File \u001b[0;32m~/anaconda3/lib/python3.11/site-packages/pandas/core/generic.py:4279\u001b[0m, in \u001b[0;36mNDFrame.__delitem__\u001b[0;34m(self, key)\u001b[0m\n\u001b[1;32m   4274\u001b[0m             deleted \u001b[38;5;241m=\u001b[39m \u001b[38;5;28;01mTrue\u001b[39;00m\n\u001b[1;32m   4275\u001b[0m \u001b[38;5;28;01mif\u001b[39;00m \u001b[38;5;129;01mnot\u001b[39;00m deleted:\n\u001b[1;32m   4276\u001b[0m     \u001b[38;5;66;03m# If the above loop ran and didn't delete anything because\u001b[39;00m\n\u001b[1;32m   4277\u001b[0m     \u001b[38;5;66;03m# there was no match, this call should raise the appropriate\u001b[39;00m\n\u001b[1;32m   4278\u001b[0m     \u001b[38;5;66;03m# exception:\u001b[39;00m\n\u001b[0;32m-> 4279\u001b[0m     loc \u001b[38;5;241m=\u001b[39m \u001b[38;5;28mself\u001b[39m\u001b[38;5;241m.\u001b[39maxes[\u001b[38;5;241m-\u001b[39m\u001b[38;5;241m1\u001b[39m]\u001b[38;5;241m.\u001b[39mget_loc(key)\n\u001b[1;32m   4280\u001b[0m     \u001b[38;5;28mself\u001b[39m\u001b[38;5;241m.\u001b[39m_mgr \u001b[38;5;241m=\u001b[39m \u001b[38;5;28mself\u001b[39m\u001b[38;5;241m.\u001b[39m_mgr\u001b[38;5;241m.\u001b[39midelete(loc)\n\u001b[1;32m   4282\u001b[0m \u001b[38;5;66;03m# delete from the caches\u001b[39;00m\n",
      "File \u001b[0;32m~/anaconda3/lib/python3.11/site-packages/pandas/core/indexes/base.py:3655\u001b[0m, in \u001b[0;36mIndex.get_loc\u001b[0;34m(self, key)\u001b[0m\n\u001b[1;32m   3653\u001b[0m     \u001b[38;5;28;01mreturn\u001b[39;00m \u001b[38;5;28mself\u001b[39m\u001b[38;5;241m.\u001b[39m_engine\u001b[38;5;241m.\u001b[39mget_loc(casted_key)\n\u001b[1;32m   3654\u001b[0m \u001b[38;5;28;01mexcept\u001b[39;00m \u001b[38;5;167;01mKeyError\u001b[39;00m \u001b[38;5;28;01mas\u001b[39;00m err:\n\u001b[0;32m-> 3655\u001b[0m     \u001b[38;5;28;01mraise\u001b[39;00m \u001b[38;5;167;01mKeyError\u001b[39;00m(key) \u001b[38;5;28;01mfrom\u001b[39;00m\u001b[38;5;250m \u001b[39m\u001b[38;5;21;01merr\u001b[39;00m\n\u001b[1;32m   3656\u001b[0m \u001b[38;5;28;01mexcept\u001b[39;00m \u001b[38;5;167;01mTypeError\u001b[39;00m:\n\u001b[1;32m   3657\u001b[0m     \u001b[38;5;66;03m# If we have a listlike key, _check_indexing_error will raise\u001b[39;00m\n\u001b[1;32m   3658\u001b[0m     \u001b[38;5;66;03m#  InvalidIndexError. Otherwise we fall through and re-raise\u001b[39;00m\n\u001b[1;32m   3659\u001b[0m     \u001b[38;5;66;03m#  the TypeError.\u001b[39;00m\n\u001b[1;32m   3660\u001b[0m     \u001b[38;5;28mself\u001b[39m\u001b[38;5;241m.\u001b[39m_check_indexing_error(key)\n",
      "\u001b[0;31mKeyError\u001b[0m: 'Dt.entr.serviço'"
     ]
    }
   ],
   "source": [
    "del df_cadastro['Dt.entr.serviço']\n",
    "\n",
    "df_cadastro['Latitude'] = df_cadastro['Latitude'].replace('#N/D', pd.NA)\n",
    "df_cadastro['Longitude'] = df_cadastro['Longitude'].replace('#N/D', pd.NA)\n",
    "\n",
    "df_cadastro['Latitude'] = df_cadastro['Latitude'].apply(lambda x: float(str(x).replace(',', '.')) if pd.notna(x) else x)\n",
    "df_cadastro['Longitude'] = df_cadastro['Longitude'].apply(lambda x: float(str(x).replace(',', '.')) if pd.notna(x) else x)\n"
   ]
  },
  {
   "cell_type": "code",
   "execution_count": 13,
   "metadata": {},
   "outputs": [],
   "source": [
    "lista_info = []\n",
    "for elem in list(df_cadastro.columns):\n",
    "    lista = df_cadastro[elem].sort_values(ascending = True).unique().tolist()\n",
    "    lista_info.append((len(lista),df_cadastro[elem].sort_values(ascending = True).isnull().sum(),round(df_cadastro[elem].sort_values(ascending = True).isnull().sum()/df_cadastro.shape[0]*100,2)))\n",
    "\n",
    "df_infos_features = pd.DataFrame(data = lista_info, columns = [\"Total\",\"Null\",\"Percentual\"], index = list(df_cadastro.columns))\n"
   ]
  },
  {
   "cell_type": "code",
   "execution_count": 14,
   "metadata": {},
   "outputs": [],
   "source": []
  },
  {
   "cell_type": "code",
   "execution_count": 15,
   "metadata": {},
   "outputs": [
    {
     "data": {
      "text/html": [
       "<div>\n",
       "<style scoped>\n",
       "    .dataframe tbody tr th:only-of-type {\n",
       "        vertical-align: middle;\n",
       "    }\n",
       "\n",
       "    .dataframe tbody tr th {\n",
       "        vertical-align: top;\n",
       "    }\n",
       "\n",
       "    .dataframe thead th {\n",
       "        text-align: right;\n",
       "    }\n",
       "</style>\n",
       "<table border=\"1\" class=\"dataframe\">\n",
       "  <thead>\n",
       "    <tr style=\"text-align: right;\">\n",
       "      <th></th>\n",
       "      <th>Total</th>\n",
       "      <th>Null</th>\n",
       "      <th>Percentual</th>\n",
       "    </tr>\n",
       "  </thead>\n",
       "  <tbody>\n",
       "    <tr>\n",
       "      <th>Equipamento</th>\n",
       "      <td>36229</td>\n",
       "      <td>0</td>\n",
       "      <td>0.00</td>\n",
       "    </tr>\n",
       "    <tr>\n",
       "      <th>Linha de Transmissão</th>\n",
       "      <td>272</td>\n",
       "      <td>0</td>\n",
       "      <td>0.00</td>\n",
       "    </tr>\n",
       "    <tr>\n",
       "      <th>Denominação</th>\n",
       "      <td>1885</td>\n",
       "      <td>0</td>\n",
       "      <td>0.00</td>\n",
       "    </tr>\n",
       "    <tr>\n",
       "      <th>Classe</th>\n",
       "      <td>9</td>\n",
       "      <td>227</td>\n",
       "      <td>0.63</td>\n",
       "    </tr>\n",
       "    <tr>\n",
       "      <th>Código ABC</th>\n",
       "      <td>2</td>\n",
       "      <td>0</td>\n",
       "      <td>0.00</td>\n",
       "    </tr>\n",
       "    <tr>\n",
       "      <th>Tensão</th>\n",
       "      <td>8</td>\n",
       "      <td>0</td>\n",
       "      <td>0.00</td>\n",
       "    </tr>\n",
       "    <tr>\n",
       "      <th>Latitude</th>\n",
       "      <td>31284</td>\n",
       "      <td>4839</td>\n",
       "      <td>13.36</td>\n",
       "    </tr>\n",
       "    <tr>\n",
       "      <th>Longitude</th>\n",
       "      <td>31289</td>\n",
       "      <td>4839</td>\n",
       "      <td>13.36</td>\n",
       "    </tr>\n",
       "  </tbody>\n",
       "</table>\n",
       "</div>"
      ],
      "text/plain": [
       "                      Total  Null  Percentual\n",
       "Equipamento           36229     0        0.00\n",
       "Linha de Transmissão    272     0        0.00\n",
       "Denominação            1885     0        0.00\n",
       "Classe                    9   227        0.63\n",
       "Código ABC                2     0        0.00\n",
       "Tensão                    8     0        0.00\n",
       "Latitude              31284  4839       13.36\n",
       "Longitude             31289  4839       13.36"
      ]
     },
     "metadata": {},
     "output_type": "display_data"
    }
   ],
   "source": [
    "display(df_infos_features)"
   ]
  },
  {
   "cell_type": "code",
   "execution_count": 16,
   "metadata": {},
   "outputs": [
    {
     "data": {
      "image/png": "[encoded data removed]",
      "text/plain": [
       "<Figure size 1200x600 with 1 Axes>"
      ]
     },
     "metadata": {},
     "output_type": "display_data"
    }
   ],
   "source": [
    "plt.figure(figsize=(12, 6))\n",
    "plt.bar(df_infos_features.index, df_infos_features['Percentual'])\n",
    "plt.title('Percentual de Dados Faltantes por Coluna')\n",
    "plt.xlabel('Colunas')\n",
    "plt.ylabel('Percentual (%)')\n",
    "plt.xticks(rotation=45, ha='right')\n",
    "plt.tight_layout()\n",
    "plt.show()\n"
   ]
  },
  {
   "cell_type": "markdown",
   "metadata": {},
   "source": [
    "### 2.2 Tratamento de Dados Ausentes da Columa **Campo**\n",
    "\n",
    "Para lidar com os dados ausentes da coluna campo, treinamento um modelo de aprendizado de maquina para prever a classe da torre usando as outras informações do cadastro."
   ]
  },
  {
   "cell_type": "code",
   "execution_count": 16,
   "metadata": {},
   "outputs": [],
   "source": [
    "feature_cols = ['Linha de Transmissão','Denominação','Código ABC','Tensão'] \n",
    "X = df_cadastro[feature_cols] # Features\n",
    "\n",
    "le = LabelEncoder()\n",
    "y = df_cadastro['Classe'][df_cadastro['Classe'].notnull()]\n",
    "y_encoded = le.fit_transform(y)\n",
    "\n",
    "encoder = OneHotEncoder(handle_unknown='ignore', sparse_output=False)\n",
    "X_encoded = encoder.fit_transform(X)\n",
    "\n",
    "indices_not_null = y.index.tolist()\n",
    "X_encoded_not_null = X_encoded[indices_not_null]\n",
    "\n",
    "X_train, X_test, y_train, y_test = train_test_split(X_encoded_not_null, y_encoded, test_size=0.3, random_state=42) # 70% training and 30% test"
   ]
  },
  {
   "cell_type": "code",
   "execution_count": 20,
   "metadata": {},
   "outputs": [],
   "source": [
    "clf = DecisionTreeClassifier(random_state=42)\n",
    "\n",
    "search_spaces = {\n",
    "    'max_depth': Integer(1, 66),\n",
    "    'min_samples_split': Integer(2, 6),\n",
    "    'min_samples_leaf': Integer(1, 6),\n",
    "    'max_features': Real(0.1, 1.0, prior='uniform')\n",
    "}\n",
    "\n",
    "opt = BayesSearchCV(\n",
    "    estimator=clf,\n",
    "    search_spaces=search_spaces,\n",
    "    n_iter=32,  # número de iterações de busca\n",
    "    scoring='neg_mean_squared_error',\n",
    "    cv=3,\n",
    "    random_state=42\n",
    ")\n",
    "\n",
    "# Executar a busca\n",
    "opt.fit(X_train, y_train)\n",
    "\n",
    "# Melhor hiperparâmetro encontrado\n",
    "print(\"Melhores hiperparâmetros:\", opt.best_params_)"
   ]
  },
  {
   "cell_type": "code",
   "execution_count": 23,
   "metadata": {},
   "outputs": [
    {
     "name": "stdout",
     "output_type": "stream",
     "text": [
      "Acurácia na base de Treino: 0.9644061743581603\n",
      "Acurácia na base de Teste: 0.9612072956207759\n",
      "\n",
      "Recall na base de Treino: 0.9644061743581603\n",
      "Recall na base de Teste: 0.9612072956207759\n",
      "\n",
      "Precisão na base de Treino: 0.9644061743581603\n",
      "Precisão na base de Teste: 0.9612072956207759\n",
      "\n",
      "F1-Score na base de Treino: 0.9644061743581603\n",
      "F1-Score na base de Teste: 0.9612072956207759\n"
     ]
    }
   ],
   "source": [
    "def performance_modelo_classificacao(y_train,y_test,pred_train,pred_val):\n",
    "     \n",
    "    # Lista para armazenar os resultados de Treino e Validação\n",
    "    score_list = []\n",
    "     \n",
    "    # Acurácia do modelo\n",
    "    train_acc = accuracy_score(y_train, pred_train)\n",
    "    val_acc = accuracy_score(y_test, pred_val)\n",
    "     \n",
    "    # Recall do modelo \n",
    "    train_recall = recall_score(y_train, pred_train,average = 'micro')\n",
    "    val_recall = recall_score(y_test, pred_val,average = 'micro')\n",
    "     \n",
    "    # Precisão do modelo\n",
    "    train_prec = precision_score(y_train, pred_train,average = 'micro')\n",
    "    val_prec = precision_score(y_test, pred_val,average = 'micro')\n",
    "     \n",
    "    # F1-Score do modelo\n",
    "    train_f1 = f1_score(y_train, pred_train, average = 'micro')\n",
    "    val_f1 = f1_score(y_test, pred_val, average = 'micro')\n",
    "     \n",
    "    # Popula a lista\n",
    "    score_list.extend((train_acc, val_acc, train_recall, val_recall, train_prec, val_prec, train_f1, val_f1))\n",
    "     \n",
    "    # Imprime a lista se flag=True (default)\n",
    "    print(f'Acurácia na base de Treino: {train_acc}')\n",
    "    print(f'Acurácia na base de Teste: {val_acc}')\n",
    "    print(f'\\nRecall na base de Treino: {train_recall}')\n",
    "    print(f'Recall na base de Teste: {val_recall}')\n",
    "    print(f'\\nPrecisão na base de Treino: {train_prec}')\n",
    "    print(f'Precisão na base de Teste: {val_prec}')\n",
    "    print(f'\\nF1-Score na base de Treino: {train_f1}')\n",
    "    print(f'F1-Score na base de Teste: {val_f1}')\n",
    "         \n",
    "    return score_list\n",
    "\n",
    "\n",
    "# Avaliar no conjunto de Treino\n",
    "y_pred_train = opt.predict(X_train)\n",
    "\n",
    "# Avaliar no conjunto de teste\n",
    "y_pred_test = opt.predict(X_test)\n",
    "\n",
    "# Métricas de performance da classificação\n",
    "met_clas = performance_modelo_classificacao(y_train,y_test,y_pred_train,y_pred_test)\n"
   ]
  },
  {
   "cell_type": "code",
   "execution_count": 24,
   "metadata": {},
   "outputs": [
    {
     "data": {
      "image/png": "[encoded data removed]",
      "text/plain": [
       "<Figure size 640x480 with 2 Axes>"
      ]
     },
     "metadata": {},
     "output_type": "display_data"
    }
   ],
   "source": [
    "# Matriz de confusão\n",
    "cf_matrix = confusion_matrix(y_test, y_pred_test)\n",
    "\n",
    "# Criando o heatmap\n",
    "sns.heatmap(cf_matrix, cmap='coolwarm', annot=True, linewidth=1, fmt='d')\n",
    "plt.show()"
   ]
  },
  {
   "cell_type": "markdown",
   "metadata": {},
   "source": [
    "### 2.3 Dados Faltes na Base de Medições\n",
    "\n",
    "Nessa seção, vamos dividir a base de medições em duas partes: medições e qualificação. \n",
    "\n",
    "Na base de medições, vamos realizar algumas transformações e limpeza de dados, como a conversão de tipos de dados, tratamento de valores ausentes e padronização de colunas. Além disso, vamos garantir que os dados estejam prontos para análises posteriores, facilitando a identificação de padrões e a aplicação de modelos de machine learning.\n",
    "\n",
    "Abaixo temos a quantidade de dados faltantes por coluna:"
   ]
  },
  {
   "cell_type": "code",
   "execution_count": 19,
   "metadata": {},
   "outputs": [
    {
     "data": {
      "text/html": [
       "<div>\n",
       "<style scoped>\n",
       "    .dataframe tbody tr th:only-of-type {\n",
       "        vertical-align: middle;\n",
       "    }\n",
       "\n",
       "    .dataframe tbody tr th {\n",
       "        vertical-align: top;\n",
       "    }\n",
       "\n",
       "    .dataframe thead th {\n",
       "        text-align: right;\n",
       "    }\n",
       "</style>\n",
       "<table border=\"1\" class=\"dataframe\">\n",
       "  <thead>\n",
       "    <tr style=\"text-align: right;\">\n",
       "      <th></th>\n",
       "      <th>Total</th>\n",
       "      <th>Null</th>\n",
       "      <th>Percentual</th>\n",
       "    </tr>\n",
       "  </thead>\n",
       "  <tbody>\n",
       "    <tr>\n",
       "      <th>Equipamento</th>\n",
       "      <td>32021</td>\n",
       "      <td>0</td>\n",
       "      <td>0.00</td>\n",
       "    </tr>\n",
       "    <tr>\n",
       "      <th>Ponto medição</th>\n",
       "      <td>133209</td>\n",
       "      <td>0</td>\n",
       "      <td>0.00</td>\n",
       "    </tr>\n",
       "    <tr>\n",
       "      <th>Doc.medição</th>\n",
       "      <td>220418</td>\n",
       "      <td>0</td>\n",
       "      <td>0.00</td>\n",
       "    </tr>\n",
       "    <tr>\n",
       "      <th>Data</th>\n",
       "      <td>2108</td>\n",
       "      <td>0</td>\n",
       "      <td>0.00</td>\n",
       "    </tr>\n",
       "    <tr>\n",
       "      <th>Item medição</th>\n",
       "      <td>9</td>\n",
       "      <td>0</td>\n",
       "      <td>0.00</td>\n",
       "    </tr>\n",
       "    <tr>\n",
       "      <th>Valor teórico</th>\n",
       "      <td>5</td>\n",
       "      <td>0</td>\n",
       "      <td>0.00</td>\n",
       "    </tr>\n",
       "    <tr>\n",
       "      <th>LimInfIntMed.</th>\n",
       "      <td>1</td>\n",
       "      <td>0</td>\n",
       "      <td>0.00</td>\n",
       "    </tr>\n",
       "    <tr>\n",
       "      <th>LimSupIntMed.</th>\n",
       "      <td>5</td>\n",
       "      <td>0</td>\n",
       "      <td>0.00</td>\n",
       "    </tr>\n",
       "    <tr>\n",
       "      <th>ValMed/PosTCont</th>\n",
       "      <td>2389</td>\n",
       "      <td>958</td>\n",
       "      <td>0.39</td>\n",
       "    </tr>\n",
       "    <tr>\n",
       "      <th>Unid.caracter.</th>\n",
       "      <td>5</td>\n",
       "      <td>0</td>\n",
       "      <td>0.00</td>\n",
       "    </tr>\n",
       "    <tr>\n",
       "      <th>Cód.valorização</th>\n",
       "      <td>14</td>\n",
       "      <td>3574</td>\n",
       "      <td>1.44</td>\n",
       "    </tr>\n",
       "    <tr>\n",
       "      <th>Txt.code codif.</th>\n",
       "      <td>85</td>\n",
       "      <td>3574</td>\n",
       "      <td>1.44</td>\n",
       "    </tr>\n",
       "    <tr>\n",
       "      <th>Denominação</th>\n",
       "      <td>161</td>\n",
       "      <td>0</td>\n",
       "      <td>0.00</td>\n",
       "    </tr>\n",
       "    <tr>\n",
       "      <th>Texto</th>\n",
       "      <td>3159</td>\n",
       "      <td>7063</td>\n",
       "      <td>2.85</td>\n",
       "    </tr>\n",
       "  </tbody>\n",
       "</table>\n",
       "</div>"
      ],
      "text/plain": [
       "                  Total  Null  Percentual\n",
       "Equipamento       32021     0        0.00\n",
       "Ponto medição    133209     0        0.00\n",
       "Doc.medição      220418     0        0.00\n",
       "Data               2108     0        0.00\n",
       "Item medição          9     0        0.00\n",
       "Valor teórico         5     0        0.00\n",
       "LimInfIntMed.         1     0        0.00\n",
       "LimSupIntMed.         5     0        0.00\n",
       "ValMed/PosTCont    2389   958        0.39\n",
       "Unid.caracter.        5     0        0.00\n",
       "Cód.valorização      14  3574        1.44\n",
       "Txt.code codif.      85  3574        1.44\n",
       "Denominação         161     0        0.00\n",
       "Texto              3159  7063        2.85"
      ]
     },
     "metadata": {},
     "output_type": "display_data"
    }
   ],
   "source": [
    "lista_info = []\n",
    "for elem in list(df_medicoes.columns):\n",
    "    lista = df_medicoes[elem].sort_values(ascending = True).unique().tolist()\n",
    "    lista_info.append((len(lista),df_medicoes[elem].sort_values(ascending = True).isnull().sum(),round(df_medicoes[elem].sort_values(ascending = True).isnull().sum()/df_medicoes.shape[0]*100,2)))\n",
    "\n",
    "df_infos_features = pd.DataFrame(data = lista_info, columns = [\"Total\",\"Null\",\"Percentual\"], index = list(df_medicoes.columns))\n",
    "\n",
    "display(df_infos_features)\n"
   ]
  },
  {
   "cell_type": "code",
   "execution_count": 18,
   "metadata": {},
   "outputs": [
    {
     "data": {
      "text/plain": [
       "Equipamento           0\n",
       "Ponto medição         0\n",
       "Doc.medição           0\n",
       "Data                  0\n",
       "Item medição          0\n",
       "Valor teórico         0\n",
       "LimInfIntMed.         0\n",
       "LimSupIntMed.         0\n",
       "ValMed/PosTCont     958\n",
       "Unid.caracter.        0\n",
       "Cód.valorização    3574\n",
       "Txt.code codif.    3574\n",
       "Denominação           0\n",
       "Texto              7063\n",
       "dtype: int64"
      ]
     },
     "execution_count": 18,
     "metadata": {},
     "output_type": "execute_result"
    }
   ],
   "source": [
    "import matplotlib.pyplot as plt\n",
    "\n",
    "missing_values = df_medicoes.isnull().sum()\n",
    "missing_values\n"
   ]
  },
  {
   "cell_type": "code",
   "execution_count": null,
   "metadata": {},
   "outputs": [],
   "source": [
    "plt.figure(figsize=(10,6))\n",
    "missing_values.plot(kind='bar')\n",
    "plt.title('Quantidade de Dados Faltantes por Coluna')\n",
    "plt.ylabel('Quantidade de valores nulos')\n",
    "plt.xlabel('Colunas')\n",
    "plt.xticks(rotation=45, ha='right')\n",
    "plt.tight_layout()\n",
    "plt.show()"
   ]
  },
  {
   "cell_type": "markdown",
   "metadata": {},
   "source": [
    "Precisamos converter as colunas que são numeros, para o objeto numerico do python. Essa conversão se deve ao fato da tabela usar virgula para separação do decimal, quanto o python necessita de ponto."
   ]
  },
  {
   "cell_type": "code",
   "execution_count": 26,
   "metadata": {},
   "outputs": [],
   "source": [
    "colunas_para_converter = ['Valor teórico', 'LimInfIntMed.', 'LimSupIntMed.', 'ValMed/PosTCont']\n",
    "\n",
    "for coluna in colunas_para_converter:\n",
    "    df_medicoes[coluna] = df_medicoes[coluna].apply(\n",
    "        lambda x: float(str(x).replace('.', '').replace(',', '.')) if pd.notna(x) else np.nan\n",
    "    )\n",
    "\n"
   ]
  },
  {
   "cell_type": "markdown",
   "metadata": {},
   "source": [
    "Para lidar com dados faltantes na coluna **ValMed/PosTCont**, verificamos se a amostra tem **TEXTO=5**, que indica que a medição está dentro dos limites e portanto, atribuimos como a média do intervalo previsto pelo fabricante."
   ]
  },
  {
   "cell_type": "code",
   "execution_count": 27,
   "metadata": {},
   "outputs": [],
   "source": [
    "# Se tiver faltando a medição e a qualificação for 5, então a medição é a média da faixa de medição.\n",
    "\n",
    "aux_ = df_medicoes[df_medicoes['ValMed/PosTCont'].isna()]\n",
    "aux_ = aux_[aux_['Texto'] == '5']\n",
    "df_medicoes.loc[aux_.index, 'ValMed/PosTCont'] = (aux_['LimSupIntMed.'] - aux_['LimInfIntMed.'])/2\n"
   ]
  },
  {
   "cell_type": "markdown",
   "metadata": {},
   "source": [
    "Para continaur lidando com dados faltantes na coluna **ValMed/PosTCont**, verificamos se a amostra tem **Txt.code codif.= \"CONDIÇÃO NORMAL\"**, que indica que a medição está dentro dos limites e portanto, atribuimos como a média do intervalo previsto pelo fabricante."
   ]
  },
  {
   "cell_type": "code",
   "execution_count": 28,
   "metadata": {},
   "outputs": [],
   "source": [
    "# Se tiver faltando a medição e a condição for normal, então a medição é a média da faixa de medição.\n",
    "\n",
    "\n",
    "aux_ = df_medicoes[df_medicoes['ValMed/PosTCont'].isna()]\n",
    "aux_ = aux_[aux_['Txt.code codif.'] == 'CONDIÇÃO NORMAL']\n",
    "df_medicoes.loc[aux_.index, 'ValMed/PosTCont'] = (aux_['LimSupIntMed.'] - aux_['LimInfIntMed.'])/2\n"
   ]
  },
  {
   "cell_type": "code",
   "execution_count": 29,
   "metadata": {},
   "outputs": [],
   "source": [
    "df_medicoes = df_medicoes[df_medicoes['ValMed/PosTCont'].notna()]"
   ]
  },
  {
   "cell_type": "markdown",
   "metadata": {},
   "source": [
    "As variaveis que são complexas de serem preenchidas, como **Texto**, serão inputados como \"Não Informado\" ou \"Desconhecido\""
   ]
  },
  {
   "cell_type": "code",
   "execution_count": 30,
   "metadata": {},
   "outputs": [],
   "source": [
    "# Essas variaveis são complexas de serem preenchidas, então vamos preencher com valores desconhecidos.\n",
    "\n",
    "df_medicoes['Txt.code codif.'] = df_medicoes['Txt.code codif.'].fillna('Desconhecido')\n",
    "df_medicoes['Cód.valorização'] = df_medicoes['Cód.valorização'].fillna(-1)\n",
    "df_medicoes['Texto'] = df_medicoes['Texto'].fillna('Não Informado')\n"
   ]
  },
  {
   "cell_type": "code",
   "execution_count": 31,
   "metadata": {},
   "outputs": [
    {
     "data": {
      "text/plain": [
       "Equipamento        0\n",
       "Ponto medição      0\n",
       "Doc.medição        0\n",
       "Data               0\n",
       "Item medição       0\n",
       "Valor teórico      0\n",
       "LimInfIntMed.      0\n",
       "LimSupIntMed.      0\n",
       "ValMed/PosTCont    0\n",
       "Unid.caracter.     0\n",
       "Cód.valorização    0\n",
       "Txt.code codif.    0\n",
       "Denominação        0\n",
       "Texto              0\n",
       "dtype: int64"
      ]
     },
     "execution_count": 31,
     "metadata": {},
     "output_type": "execute_result"
    }
   ],
   "source": [
    "df_medicoes.isnull().sum()"
   ]
  },
  {
   "cell_type": "markdown",
   "metadata": {},
   "source": [
    "## 2.4 Dados Faltantes da Base de Qualificação"
   ]
  },
  {
   "cell_type": "markdown",
   "metadata": {},
   "source": [
    "Podemos ver que existem dados de qualificação com dados faltantes no campo **Texto**, indicando a falta de algumas qualificações para as torres existentes."
   ]
  },
  {
   "cell_type": "code",
   "execution_count": 32,
   "metadata": {},
   "outputs": [],
   "source": [
    "del df_qualificacao['Valor teórico']\n",
    "del df_qualificacao['LimInfIntMed.']\n",
    "del df_qualificacao['LimSupIntMed.']\n",
    "del df_qualificacao['Cód.valorização']\n",
    "del df_qualificacao['Txt.code codif.']"
   ]
  },
  {
   "cell_type": "code",
   "execution_count": 37,
   "metadata": {},
   "outputs": [
    {
     "data": {
      "text/plain": [
       "Equipamento           0\n",
       "Ponto medição         0\n",
       "Doc.medição           0\n",
       "Data                  0\n",
       "Item medição          0\n",
       "ValMed/PosTCont       0\n",
       "Unid.caracter.        0\n",
       "Denominação           0\n",
       "Texto              9566\n",
       "Ano                   0\n",
       "Mes                   0\n",
       "dtype: int64"
      ]
     },
     "execution_count": 37,
     "metadata": {},
     "output_type": "execute_result"
    }
   ],
   "source": [
    "df_qualificacao.isnull().sum()"
   ]
  },
  {
   "cell_type": "markdown",
   "metadata": {},
   "source": [
    "## 2.5 Enriquecimento dos Dados de Medição\n",
    "\n",
    "Com as colunas existantes, criamos as seguintes colunas para a base de medições:\n",
    "- Separação da data de medição (Ano e Mês)\n",
    "- Coluna que indica se a medição está dentro dos limites ou não.\n",
    "- Desvio normalizado da medição. Mede o quanto a medição está fora dos padrões definidos e normaliza-a.\n",
    "\n",
    "Com as colunas existantes, criamos as seguintes colunas para a base de qualificações:\n",
    "- Separação da data de medição (Ano e Mês)\n"
   ]
  },
  {
   "cell_type": "code",
   "execution_count": 33,
   "metadata": {},
   "outputs": [],
   "source": [
    "df_medicoes['Data'] = pd.to_datetime(df_medicoes['Data'], format='%d/%m/%Y', errors='coerce')\n",
    "df_medicoes['Ano'] = df_medicoes['Data'].dt.year\n",
    "df_medicoes['Mes'] = df_medicoes['Data'].dt.month\n",
    "\n",
    "df_qualificacao['Data'] = pd.to_datetime(df_qualificacao['Data'], format='%d/%m/%Y', errors='coerce')\n",
    "df_qualificacao['Ano'] = df_qualificacao['Data'].dt.year\n",
    "df_qualificacao['Mes'] = df_qualificacao['Data'].dt.month\n"
   ]
  },
  {
   "cell_type": "code",
   "execution_count": 34,
   "metadata": {},
   "outputs": [],
   "source": [
    "df_medicoes['inside_limits'] = (df_medicoes['ValMed/PosTCont'] >= df_medicoes['LimInfIntMed.']) & (df_medicoes['ValMed/PosTCont'] <= df_medicoes['LimSupIntMed.'])"
   ]
  },
  {
   "cell_type": "code",
   "execution_count": 35,
   "metadata": {},
   "outputs": [],
   "source": [
    "# Calcula o índice de desvio em relação ao intervalo esperado\n",
    "df_medicoes['desvio'] = 0  # Valor padrão para caso dentro dos limites\n",
    "\n",
    "# Caso valor > limite_sup\n",
    "mask_acima = df_medicoes['ValMed/PosTCont'] > df_medicoes['LimSupIntMed.']\n",
    "df_medicoes.loc[mask_acima, 'desvio'] = (df_medicoes.loc[mask_acima, 'ValMed/PosTCont'] - \n",
    "                                         df_medicoes.loc[mask_acima, 'LimSupIntMed.']) / df_medicoes.loc[mask_acima, 'LimSupIntMed.']\n",
    "\n",
    "# Caso valor < limite_inf\n",
    "mask_abaixo = df_medicoes['ValMed/PosTCont'] < df_medicoes['LimInfIntMed.']\n",
    "df_medicoes.loc[mask_abaixo, 'desvio'] = (df_medicoes.loc[mask_abaixo, 'ValMed/PosTCont'] - \n",
    "                                          df_medicoes.loc[mask_abaixo, 'LimInfIntMed.']) / (df_medicoes.loc[mask_abaixo, 'LimSupIntMed.'] - \n",
    "                                                                                           df_medicoes.loc[mask_abaixo, 'LimInfIntMed.'])"
   ]
  },
  {
   "cell_type": "code",
   "execution_count": 36,
   "metadata": {},
   "outputs": [],
   "source": [
    "df_medicoes.to_csv(\"./processed_data/medicoes.csv\", index=False)\n",
    "df_qualificacao.to_csv(\"./processed_data/qualificacao.csv\", index=False)\n",
    "df_cadastro.to_csv(\"./processed_data/cadastro.csv\", index=False)"
   ]
  }
 ],
 "metadata": {
  "kernelspec": {
   "display_name": "base",
   "language": "python",
   "name": "python3"
  },
  "language_info": {
   "codemirror_mode": {
    "name": "ipython",
    "version": 3
   },
   "file_extension": ".py",
   "mimetype": "text/x-python",
   "name": "python",
   "nbconvert_exporter": "python",
   "pygments_lexer": "ipython3",
   "version": "3.11.5"
  }
 },
 "nbformat": 4,
 "nbformat_minor": 2
}
