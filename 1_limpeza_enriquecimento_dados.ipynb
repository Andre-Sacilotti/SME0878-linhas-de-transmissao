{
 "cells": [
  {
   "cell_type": "code",
   "execution_count": 35,
   "metadata": {},
   "outputs": [],
   "source": [
    "# Ignorar alertas\n",
    "import warnings\n",
    "warnings.filterwarnings('ignore')\n",
    "\n",
    "import pandas as pd\n",
    "import numpy as np\n",
    "import seaborn as sns\n",
    "import matplotlib.pyplot as plt\n",
    "from sklearn.model_selection import train_test_split\n",
    "from sklearn import tree\n",
    "from sklearn.tree import DecisionTreeClassifier,DecisionTreeRegressor\n",
    "from sklearn import metrics\n",
    "from sklearn.preprocessing import OneHotEncoder\n",
    "from sklearn.preprocessing import LabelEncoder\n",
    "from skopt import BayesSearchCV\n",
    "from skopt.space import Integer, Real\n",
    "#Métricas de performance\n",
    "from sklearn import metrics\n",
    "from sklearn.metrics import (f1_score,accuracy_score,recall_score,precision_score,confusion_matrix,roc_auc_score,mean_squared_error,r2_score)\n"
   ]
  },
  {
   "cell_type": "code",
   "execution_count": null,
   "metadata": {},
   "outputs": [],
   "source": [
    "def performance_modelo_classificacao(y_train,y_test,pred_train,pred_val):\n",
    "     \n",
    "    '''\n",
    "    Função para computar as diferentes métricas de performance para modelos de classificação.\n",
    " \n",
    "    model: modelo para prever os valores de X\n",
    "    flag: se imprimimos ou não os resultados\n",
    "    '''\n",
    "     \n",
    "    # Lista para armazenar os resultados de Treino e Validação\n",
    "    score_list = []\n",
    "     \n",
    "    # Acurácia do modelo\n",
    "    train_acc = accuracy_score(y_train, pred_train)\n",
    "    val_acc = accuracy_score(y_test, pred_val)\n",
    "     \n",
    "    # Recall do modelo \n",
    "    train_recall = recall_score(y_train, pred_train,average = 'micro')\n",
    "    val_recall = recall_score(y_test, pred_val,average = 'micro')\n",
    "     \n",
    "    # Precisão do modelo\n",
    "    train_prec = precision_score(y_train, pred_train,average = 'micro')\n",
    "    val_prec = precision_score(y_test, pred_val,average = 'micro')\n",
    "     \n",
    "    # F1-Score do modelo\n",
    "    train_f1 = f1_score(y_train, pred_train, average = 'micro')\n",
    "    val_f1 = f1_score(y_test, pred_val, average = 'micro')\n",
    "     \n",
    "    # Popula a lista\n",
    "    score_list.extend((train_acc, val_acc, train_recall, val_recall, train_prec, val_prec, train_f1, val_f1))\n",
    "     \n",
    "    # Imprime a lista se flag=True (default)\n",
    "    print(f'Acurácia na base de Treino: {train_acc}')\n",
    "    print(f'Acurácia na base de Teste: {val_acc}')\n",
    "    print(f'\\nRecall na base de Treino: {train_recall}')\n",
    "    print(f'Recall na base de Teste: {val_recall}')\n",
    "    print(f'\\nPrecisão na base de Treino: {train_prec}')\n",
    "    print(f'Precisão na base de Teste: {val_prec}')\n",
    "    print(f'\\nF1-Score na base de Treino: {train_f1}')\n",
    "    print(f'F1-Score na base de Teste: {val_f1}')\n",
    "         \n",
    "    # Retorna a lista de valores em Treino e Validação\n",
    "    return score_list"
   ]
  },
  {
   "cell_type": "markdown",
   "metadata": {},
   "source": [
    "## Leitura dos Dados"
   ]
  },
  {
   "cell_type": "code",
   "execution_count": 3,
   "metadata": {},
   "outputs": [],
   "source": [
    "df_medicoes = pd.read_csv('./data/BD_Linhas-de-Transmissão(Documentos de Medição).csv', encoding='latin-1', sep=';')\n",
    "df_cadastro = pd.read_csv('./data/BD_Linhas-de-Transmissão(Cadastro).csv', encoding='latin-1', sep=';')\n",
    "\n",
    "df_qualificacao = df_medicoes[df_medicoes['Item medição'] == 'TORRE']\n",
    "df_medicoes = df_medicoes[df_medicoes['Item medição'] != 'TORRE']"
   ]
  },
  {
   "cell_type": "code",
   "execution_count": 4,
   "metadata": {},
   "outputs": [
    {
     "data": {
      "text/html": [
       "<div>\n",
       "<style scoped>\n",
       "    .dataframe tbody tr th:only-of-type {\n",
       "        vertical-align: middle;\n",
       "    }\n",
       "\n",
       "    .dataframe tbody tr th {\n",
       "        vertical-align: top;\n",
       "    }\n",
       "\n",
       "    .dataframe thead th {\n",
       "        text-align: right;\n",
       "    }\n",
       "</style>\n",
       "<table border=\"1\" class=\"dataframe\">\n",
       "  <thead>\n",
       "    <tr style=\"text-align: right;\">\n",
       "      <th></th>\n",
       "      <th>Equipamento</th>\n",
       "      <th>Ponto medição</th>\n",
       "      <th>Doc.medição</th>\n",
       "      <th>Data</th>\n",
       "      <th>Item medição</th>\n",
       "      <th>Valor teórico</th>\n",
       "      <th>LimInfIntMed.</th>\n",
       "      <th>LimSupIntMed.</th>\n",
       "      <th>ValMed/PosTCont</th>\n",
       "      <th>Unid.caracter.</th>\n",
       "      <th>Cód.valorização</th>\n",
       "      <th>Txt.code codif.</th>\n",
       "      <th>Denominação</th>\n",
       "      <th>Texto</th>\n",
       "    </tr>\n",
       "  </thead>\n",
       "  <tbody>\n",
       "    <tr>\n",
       "      <th>23</th>\n",
       "      <td>294939</td>\n",
       "      <td>9283757</td>\n",
       "      <td>7983160</td>\n",
       "      <td>18/02/2025</td>\n",
       "      <td>TORRE</td>\n",
       "      <td>NaN</td>\n",
       "      <td>0,00</td>\n",
       "      <td>NaN</td>\n",
       "      <td>5,00</td>\n",
       "      <td>UN</td>\n",
       "      <td>NaN</td>\n",
       "      <td>NaN</td>\n",
       "      <td>Qualificacao do Equipamento</td>\n",
       "      <td>D:0*1/ 0*2/ 0*3/ 0*4/ 2*5/ 165*9</td>\n",
       "    </tr>\n",
       "    <tr>\n",
       "      <th>24</th>\n",
       "      <td>294939</td>\n",
       "      <td>9283757</td>\n",
       "      <td>3692788</td>\n",
       "      <td>02/02/2022</td>\n",
       "      <td>TORRE</td>\n",
       "      <td>NaN</td>\n",
       "      <td>0,00</td>\n",
       "      <td>NaN</td>\n",
       "      <td>9,00</td>\n",
       "      <td>UN</td>\n",
       "      <td>NaN</td>\n",
       "      <td>NaN</td>\n",
       "      <td>Qualificacao do Equipamento</td>\n",
       "      <td>D:0*1/ 0*2/ 0*3/ 0*4/ 0*5/ 167*9</td>\n",
       "    </tr>\n",
       "    <tr>\n",
       "      <th>26</th>\n",
       "      <td>294938</td>\n",
       "      <td>9283589</td>\n",
       "      <td>7983161</td>\n",
       "      <td>18/02/2025</td>\n",
       "      <td>TORRE</td>\n",
       "      <td>NaN</td>\n",
       "      <td>0,00</td>\n",
       "      <td>NaN</td>\n",
       "      <td>4,00</td>\n",
       "      <td>UN</td>\n",
       "      <td>NaN</td>\n",
       "      <td>NaN</td>\n",
       "      <td>Qualificacao do Equipamento</td>\n",
       "      <td>ENTULHO. D:0*1/ 0*2/ 0*3/ 1*4/ 2*5/ 164*</td>\n",
       "    </tr>\n",
       "    <tr>\n",
       "      <th>27</th>\n",
       "      <td>294938</td>\n",
       "      <td>9283589</td>\n",
       "      <td>4758120</td>\n",
       "      <td>05/05/2023</td>\n",
       "      <td>TORRE</td>\n",
       "      <td>NaN</td>\n",
       "      <td>0,00</td>\n",
       "      <td>NaN</td>\n",
       "      <td>5,00</td>\n",
       "      <td>UN</td>\n",
       "      <td>NaN</td>\n",
       "      <td>NaN</td>\n",
       "      <td>Qualificacao do Equipamento</td>\n",
       "      <td>D:0*1/ 0*2/ 0*3/ 0*4/ 2*5/ 165*9</td>\n",
       "    </tr>\n",
       "    <tr>\n",
       "      <th>28</th>\n",
       "      <td>294938</td>\n",
       "      <td>9283589</td>\n",
       "      <td>3692787</td>\n",
       "      <td>02/02/2022</td>\n",
       "      <td>TORRE</td>\n",
       "      <td>NaN</td>\n",
       "      <td>0,00</td>\n",
       "      <td>NaN</td>\n",
       "      <td>9,00</td>\n",
       "      <td>UN</td>\n",
       "      <td>NaN</td>\n",
       "      <td>NaN</td>\n",
       "      <td>Qualificacao do Equipamento</td>\n",
       "      <td>D:0*1/ 0*2/ 0*3/ 0*4/ 0*5/ 167*9</td>\n",
       "    </tr>\n",
       "  </tbody>\n",
       "</table>\n",
       "</div>"
      ],
      "text/plain": [
       "    Equipamento  Ponto medição  Doc.medição        Data Item medição  \\\n",
       "23       294939        9283757      7983160  18/02/2025        TORRE   \n",
       "24       294939        9283757      3692788  02/02/2022        TORRE   \n",
       "26       294938        9283589      7983161  18/02/2025        TORRE   \n",
       "27       294938        9283589      4758120  05/05/2023        TORRE   \n",
       "28       294938        9283589      3692787  02/02/2022        TORRE   \n",
       "\n",
       "   Valor teórico LimInfIntMed. LimSupIntMed. ValMed/PosTCont Unid.caracter.  \\\n",
       "23           NaN          0,00           NaN            5,00             UN   \n",
       "24           NaN          0,00           NaN            9,00             UN   \n",
       "26           NaN          0,00           NaN            4,00             UN   \n",
       "27           NaN          0,00           NaN            5,00             UN   \n",
       "28           NaN          0,00           NaN            9,00             UN   \n",
       "\n",
       "    Cód.valorização Txt.code codif.                  Denominação  \\\n",
       "23              NaN             NaN  Qualificacao do Equipamento   \n",
       "24              NaN             NaN  Qualificacao do Equipamento   \n",
       "26              NaN             NaN  Qualificacao do Equipamento   \n",
       "27              NaN             NaN  Qualificacao do Equipamento   \n",
       "28              NaN             NaN  Qualificacao do Equipamento   \n",
       "\n",
       "                                       Texto  \n",
       "23          D:0*1/ 0*2/ 0*3/ 0*4/ 2*5/ 165*9  \n",
       "24          D:0*1/ 0*2/ 0*3/ 0*4/ 0*5/ 167*9  \n",
       "26  ENTULHO. D:0*1/ 0*2/ 0*3/ 1*4/ 2*5/ 164*  \n",
       "27          D:0*1/ 0*2/ 0*3/ 0*4/ 2*5/ 165*9  \n",
       "28          D:0*1/ 0*2/ 0*3/ 0*4/ 0*5/ 167*9  "
      ]
     },
     "execution_count": 4,
     "metadata": {},
     "output_type": "execute_result"
    }
   ],
   "source": [
    "df_qualificacao.head()"
   ]
  },
  {
   "cell_type": "code",
   "execution_count": 5,
   "metadata": {},
   "outputs": [
    {
     "data": {
      "text/html": [
       "<div>\n",
       "<style scoped>\n",
       "    .dataframe tbody tr th:only-of-type {\n",
       "        vertical-align: middle;\n",
       "    }\n",
       "\n",
       "    .dataframe tbody tr th {\n",
       "        vertical-align: top;\n",
       "    }\n",
       "\n",
       "    .dataframe thead th {\n",
       "        text-align: right;\n",
       "    }\n",
       "</style>\n",
       "<table border=\"1\" class=\"dataframe\">\n",
       "  <thead>\n",
       "    <tr style=\"text-align: right;\">\n",
       "      <th></th>\n",
       "      <th>Equipamento</th>\n",
       "      <th>Ponto medição</th>\n",
       "      <th>Doc.medição</th>\n",
       "      <th>Data</th>\n",
       "      <th>Item medição</th>\n",
       "      <th>Valor teórico</th>\n",
       "      <th>LimInfIntMed.</th>\n",
       "      <th>LimSupIntMed.</th>\n",
       "      <th>ValMed/PosTCont</th>\n",
       "      <th>Unid.caracter.</th>\n",
       "      <th>Cód.valorização</th>\n",
       "      <th>Txt.code codif.</th>\n",
       "      <th>Denominação</th>\n",
       "      <th>Texto</th>\n",
       "    </tr>\n",
       "  </thead>\n",
       "  <tbody>\n",
       "    <tr>\n",
       "      <th>0</th>\n",
       "      <td>323958</td>\n",
       "      <td>10155659</td>\n",
       "      <td>7991396</td>\n",
       "      <td>18/02/2025</td>\n",
       "      <td>VÃO</td>\n",
       "      <td>0,00</td>\n",
       "      <td>0,00</td>\n",
       "      <td>100,00</td>\n",
       "      <td>1.500,00</td>\n",
       "      <td>m2</td>\n",
       "      <td>3.0</td>\n",
       "      <td>FIM DO VAO</td>\n",
       "      <td>ROCADA MECANIZADA</td>\n",
       "      <td>Roçada mecanizada no final do vão 50x30.</td>\n",
       "    </tr>\n",
       "    <tr>\n",
       "      <th>1</th>\n",
       "      <td>323957</td>\n",
       "      <td>10155490</td>\n",
       "      <td>7991397</td>\n",
       "      <td>18/02/2025</td>\n",
       "      <td>VÃO</td>\n",
       "      <td>0,00</td>\n",
       "      <td>0,00</td>\n",
       "      <td>100,00</td>\n",
       "      <td>5.400,00</td>\n",
       "      <td>m2</td>\n",
       "      <td>1.0</td>\n",
       "      <td>INICIO DO VAO</td>\n",
       "      <td>ROCADA MANUAL</td>\n",
       "      <td>Roçada manual no início do vão 180x30. R</td>\n",
       "    </tr>\n",
       "    <tr>\n",
       "      <th>2</th>\n",
       "      <td>323957</td>\n",
       "      <td>10155491</td>\n",
       "      <td>7991398</td>\n",
       "      <td>18/02/2025</td>\n",
       "      <td>VÃO</td>\n",
       "      <td>0,00</td>\n",
       "      <td>0,00</td>\n",
       "      <td>100,00</td>\n",
       "      <td>3.600,00</td>\n",
       "      <td>m2</td>\n",
       "      <td>5.0</td>\n",
       "      <td>MEIO E FIM DO VAO</td>\n",
       "      <td>ROCADA MECANIZADA</td>\n",
       "      <td>Roçada mecanizada no meio e fim do vão 1</td>\n",
       "    </tr>\n",
       "    <tr>\n",
       "      <th>3</th>\n",
       "      <td>323955</td>\n",
       "      <td>10155322</td>\n",
       "      <td>7991399</td>\n",
       "      <td>18/02/2025</td>\n",
       "      <td>VÃO</td>\n",
       "      <td>0,00</td>\n",
       "      <td>0,00</td>\n",
       "      <td>100,00</td>\n",
       "      <td>6.000,00</td>\n",
       "      <td>m2</td>\n",
       "      <td>5.0</td>\n",
       "      <td>MEIO E FIM DO VAO</td>\n",
       "      <td>ROCADA MANUAL</td>\n",
       "      <td>Roçada manual no meio e fim do vão 200x3</td>\n",
       "    </tr>\n",
       "    <tr>\n",
       "      <th>4</th>\n",
       "      <td>323954</td>\n",
       "      <td>10155155</td>\n",
       "      <td>7991400</td>\n",
       "      <td>18/02/2025</td>\n",
       "      <td>VÃO</td>\n",
       "      <td>0,00</td>\n",
       "      <td>0,00</td>\n",
       "      <td>100,00</td>\n",
       "      <td>10.350,00</td>\n",
       "      <td>m2</td>\n",
       "      <td>7.0</td>\n",
       "      <td>VAO COMPLETO</td>\n",
       "      <td>ROCADA MECANIZADA</td>\n",
       "      <td>Roçada mecanizada vão total 345x30.  Rel</td>\n",
       "    </tr>\n",
       "  </tbody>\n",
       "</table>\n",
       "</div>"
      ],
      "text/plain": [
       "   Equipamento  Ponto medição  Doc.medição        Data Item medição  \\\n",
       "0       323958       10155659      7991396  18/02/2025          VÃO   \n",
       "1       323957       10155490      7991397  18/02/2025          VÃO   \n",
       "2       323957       10155491      7991398  18/02/2025          VÃO   \n",
       "3       323955       10155322      7991399  18/02/2025          VÃO   \n",
       "4       323954       10155155      7991400  18/02/2025          VÃO   \n",
       "\n",
       "  Valor teórico LimInfIntMed. LimSupIntMed. ValMed/PosTCont Unid.caracter.  \\\n",
       "0          0,00          0,00        100,00        1.500,00             m2   \n",
       "1          0,00          0,00        100,00        5.400,00             m2   \n",
       "2          0,00          0,00        100,00        3.600,00             m2   \n",
       "3          0,00          0,00        100,00        6.000,00             m2   \n",
       "4          0,00          0,00        100,00       10.350,00             m2   \n",
       "\n",
       "   Cód.valorização    Txt.code codif.        Denominação  \\\n",
       "0              3.0         FIM DO VAO  ROCADA MECANIZADA   \n",
       "1              1.0      INICIO DO VAO      ROCADA MANUAL   \n",
       "2              5.0  MEIO E FIM DO VAO  ROCADA MECANIZADA   \n",
       "3              5.0  MEIO E FIM DO VAO      ROCADA MANUAL   \n",
       "4              7.0       VAO COMPLETO  ROCADA MECANIZADA   \n",
       "\n",
       "                                      Texto  \n",
       "0  Roçada mecanizada no final do vão 50x30.  \n",
       "1  Roçada manual no início do vão 180x30. R  \n",
       "2  Roçada mecanizada no meio e fim do vão 1  \n",
       "3  Roçada manual no meio e fim do vão 200x3  \n",
       "4  Roçada mecanizada vão total 345x30.  Rel  "
      ]
     },
     "execution_count": 5,
     "metadata": {},
     "output_type": "execute_result"
    }
   ],
   "source": [
    "df_medicoes.head()"
   ]
  },
  {
   "cell_type": "code",
   "execution_count": 6,
   "metadata": {},
   "outputs": [
    {
     "data": {
      "text/html": [
       "<div>\n",
       "<style scoped>\n",
       "    .dataframe tbody tr th:only-of-type {\n",
       "        vertical-align: middle;\n",
       "    }\n",
       "\n",
       "    .dataframe tbody tr th {\n",
       "        vertical-align: top;\n",
       "    }\n",
       "\n",
       "    .dataframe thead th {\n",
       "        text-align: right;\n",
       "    }\n",
       "</style>\n",
       "<table border=\"1\" class=\"dataframe\">\n",
       "  <thead>\n",
       "    <tr style=\"text-align: right;\">\n",
       "      <th></th>\n",
       "      <th>Equipamento</th>\n",
       "      <th>Linha de Transmissão</th>\n",
       "      <th>Denominação</th>\n",
       "      <th>Dt.entr.serviço</th>\n",
       "      <th>Classe</th>\n",
       "      <th>Código ABC</th>\n",
       "      <th>Tensão</th>\n",
       "      <th>Latitude</th>\n",
       "      <th>Longitude</th>\n",
       "    </tr>\n",
       "  </thead>\n",
       "  <tbody>\n",
       "    <tr>\n",
       "      <th>0</th>\n",
       "      <td>115280</td>\n",
       "      <td>LT31</td>\n",
       "      <td>Torre 111</td>\n",
       "      <td>NaN</td>\n",
       "      <td>L_TORRE_AUTOPORT</td>\n",
       "      <td>C</td>\n",
       "      <td>230</td>\n",
       "      <td>-22,9776099</td>\n",
       "      <td>-50,0565232</td>\n",
       "    </tr>\n",
       "    <tr>\n",
       "      <th>1</th>\n",
       "      <td>115281</td>\n",
       "      <td>LT31</td>\n",
       "      <td>Torre 112</td>\n",
       "      <td>NaN</td>\n",
       "      <td>L_TORRE_AUTOPORT</td>\n",
       "      <td>C</td>\n",
       "      <td>230</td>\n",
       "      <td>-22,9791718</td>\n",
       "      <td>-50,0531681</td>\n",
       "    </tr>\n",
       "    <tr>\n",
       "      <th>2</th>\n",
       "      <td>115282</td>\n",
       "      <td>LT31</td>\n",
       "      <td>Torre 113</td>\n",
       "      <td>NaN</td>\n",
       "      <td>L_TORRE_AUTOPORT</td>\n",
       "      <td>C</td>\n",
       "      <td>230</td>\n",
       "      <td>-22,9808738</td>\n",
       "      <td>-50,0494992</td>\n",
       "    </tr>\n",
       "    <tr>\n",
       "      <th>3</th>\n",
       "      <td>115283</td>\n",
       "      <td>LT31</td>\n",
       "      <td>Torre 114</td>\n",
       "      <td>NaN</td>\n",
       "      <td>L_TORRE_AUTOPORT</td>\n",
       "      <td>C</td>\n",
       "      <td>230</td>\n",
       "      <td>-22,9830172</td>\n",
       "      <td>-50,0449193</td>\n",
       "    </tr>\n",
       "    <tr>\n",
       "      <th>4</th>\n",
       "      <td>115284</td>\n",
       "      <td>LT31</td>\n",
       "      <td>Torre 115</td>\n",
       "      <td>NaN</td>\n",
       "      <td>L_TORRE_AUTOPORT</td>\n",
       "      <td>C</td>\n",
       "      <td>230</td>\n",
       "      <td>-22,9846747</td>\n",
       "      <td>-50,0413489</td>\n",
       "    </tr>\n",
       "  </tbody>\n",
       "</table>\n",
       "</div>"
      ],
      "text/plain": [
       "   Equipamento Linha de Transmissão Denominação Dt.entr.serviço  \\\n",
       "0       115280                 LT31   Torre 111             NaN   \n",
       "1       115281                 LT31   Torre 112             NaN   \n",
       "2       115282                 LT31   Torre 113             NaN   \n",
       "3       115283                 LT31   Torre 114             NaN   \n",
       "4       115284                 LT31   Torre 115             NaN   \n",
       "\n",
       "             Classe Código ABC  Tensão     Latitude    Longitude  \n",
       "0  L_TORRE_AUTOPORT          C     230  -22,9776099  -50,0565232  \n",
       "1  L_TORRE_AUTOPORT          C     230  -22,9791718  -50,0531681  \n",
       "2  L_TORRE_AUTOPORT          C     230  -22,9808738  -50,0494992  \n",
       "3  L_TORRE_AUTOPORT          C     230  -22,9830172  -50,0449193  \n",
       "4  L_TORRE_AUTOPORT          C     230  -22,9846747  -50,0413489  "
      ]
     },
     "execution_count": 6,
     "metadata": {},
     "output_type": "execute_result"
    }
   ],
   "source": [
    "df_cadastro.head()"
   ]
  },
  {
   "cell_type": "markdown",
   "metadata": {},
   "source": [
    "## Analise de Dados Faltantes"
   ]
  },
  {
   "cell_type": "markdown",
   "metadata": {},
   "source": [
    "#### Cadastro"
   ]
  },
  {
   "cell_type": "code",
   "execution_count": 7,
   "metadata": {},
   "outputs": [],
   "source": [
    "del df_cadastro['Dt.entr.serviço']\n",
    "\n",
    "df_cadastro['Latitude'] = df_cadastro['Latitude'].replace('#N/D', pd.NA)\n",
    "df_cadastro['Longitude'] = df_cadastro['Longitude'].replace('#N/D', pd.NA)\n",
    "\n",
    "df_cadastro['Latitude'] = df_cadastro['Latitude'].apply(lambda x: float(str(x).replace(',', '.')) if pd.notna(x) else x)\n",
    "df_cadastro['Longitude'] = df_cadastro['Longitude'].apply(lambda x: float(str(x).replace(',', '.')) if pd.notna(x) else x)"
   ]
  },
  {
   "cell_type": "code",
   "execution_count": 8,
   "metadata": {},
   "outputs": [],
   "source": [
    "lista_info = []\n",
    "for elem in list(df_cadastro.columns):\n",
    "    lista = df_cadastro[elem].sort_values(ascending = True).unique().tolist()\n",
    "    lista_info.append((len(lista),df_cadastro[elem].sort_values(ascending = True).isnull().sum(),round(df_cadastro[elem].sort_values(ascending = True).isnull().sum()/df_cadastro.shape[0]*100,2)))"
   ]
  },
  {
   "cell_type": "code",
   "execution_count": 9,
   "metadata": {},
   "outputs": [],
   "source": [
    "df_infos_features = pd.DataFrame(data = lista_info, columns = [\"Total\",\"Null\",\"Percentual\"], index = list(df_cadastro.columns))"
   ]
  },
  {
   "cell_type": "code",
   "execution_count": 10,
   "metadata": {},
   "outputs": [
    {
     "data": {
      "text/html": [
       "<div>\n",
       "<style scoped>\n",
       "    .dataframe tbody tr th:only-of-type {\n",
       "        vertical-align: middle;\n",
       "    }\n",
       "\n",
       "    .dataframe tbody tr th {\n",
       "        vertical-align: top;\n",
       "    }\n",
       "\n",
       "    .dataframe thead th {\n",
       "        text-align: right;\n",
       "    }\n",
       "</style>\n",
       "<table border=\"1\" class=\"dataframe\">\n",
       "  <thead>\n",
       "    <tr style=\"text-align: right;\">\n",
       "      <th></th>\n",
       "      <th>Total</th>\n",
       "      <th>Null</th>\n",
       "      <th>Percentual</th>\n",
       "    </tr>\n",
       "  </thead>\n",
       "  <tbody>\n",
       "    <tr>\n",
       "      <th>Equipamento</th>\n",
       "      <td>36229</td>\n",
       "      <td>0</td>\n",
       "      <td>0.00</td>\n",
       "    </tr>\n",
       "    <tr>\n",
       "      <th>Linha de Transmissão</th>\n",
       "      <td>272</td>\n",
       "      <td>0</td>\n",
       "      <td>0.00</td>\n",
       "    </tr>\n",
       "    <tr>\n",
       "      <th>Denominação</th>\n",
       "      <td>1885</td>\n",
       "      <td>0</td>\n",
       "      <td>0.00</td>\n",
       "    </tr>\n",
       "    <tr>\n",
       "      <th>Classe</th>\n",
       "      <td>9</td>\n",
       "      <td>227</td>\n",
       "      <td>0.63</td>\n",
       "    </tr>\n",
       "    <tr>\n",
       "      <th>Código ABC</th>\n",
       "      <td>2</td>\n",
       "      <td>0</td>\n",
       "      <td>0.00</td>\n",
       "    </tr>\n",
       "    <tr>\n",
       "      <th>Tensão</th>\n",
       "      <td>8</td>\n",
       "      <td>0</td>\n",
       "      <td>0.00</td>\n",
       "    </tr>\n",
       "    <tr>\n",
       "      <th>Latitude</th>\n",
       "      <td>31284</td>\n",
       "      <td>4839</td>\n",
       "      <td>13.36</td>\n",
       "    </tr>\n",
       "    <tr>\n",
       "      <th>Longitude</th>\n",
       "      <td>31289</td>\n",
       "      <td>4839</td>\n",
       "      <td>13.36</td>\n",
       "    </tr>\n",
       "  </tbody>\n",
       "</table>\n",
       "</div>"
      ],
      "text/plain": [
       "                      Total  Null  Percentual\n",
       "Equipamento           36229     0        0.00\n",
       "Linha de Transmissão    272     0        0.00\n",
       "Denominação            1885     0        0.00\n",
       "Classe                    9   227        0.63\n",
       "Código ABC                2     0        0.00\n",
       "Tensão                    8     0        0.00\n",
       "Latitude              31284  4839       13.36\n",
       "Longitude             31289  4839       13.36"
      ]
     },
     "metadata": {},
     "output_type": "display_data"
    }
   ],
   "source": [
    "display(df_infos_features)"
   ]
  },
  {
   "cell_type": "markdown",
   "metadata": {},
   "source": [
    "##### Tratando dados ausentes do campo classe - Árvore de decisão de classificação"
   ]
  },
  {
   "cell_type": "code",
   "execution_count": 11,
   "metadata": {},
   "outputs": [],
   "source": [
    "feature_cols = ['Linha de Transmissão','Denominação','Código ABC','Tensão'] \n",
    "X = df_cadastro[feature_cols] # Features\n",
    "\n",
    "le = LabelEncoder()\n",
    "y = df_cadastro['Classe'][df_cadastro['Classe'].notnull()]\n",
    "y_encoded = le.fit_transform(y)\n",
    "\n",
    "encoder = OneHotEncoder(handle_unknown='ignore', sparse_output=False)\n",
    "X_encoded = encoder.fit_transform(X)"
   ]
  },
  {
   "cell_type": "code",
   "execution_count": 12,
   "metadata": {},
   "outputs": [],
   "source": [
    "indices_not_null = y.index.tolist()\n",
    "X_encoded_not_null = X_encoded[indices_not_null]"
   ]
  },
  {
   "cell_type": "code",
   "execution_count": 13,
   "metadata": {},
   "outputs": [],
   "source": [
    "# Split dataset into training set and test set\n",
    "X_train, X_test, y_train, y_test = train_test_split(X_encoded_not_null, y_encoded, test_size=0.3, random_state=42) # 70% training and 30% test"
   ]
  },
  {
   "cell_type": "code",
   "execution_count": 14,
   "metadata": {},
   "outputs": [],
   "source": [
    "# Criando modelo de árvore de decisão de classificação\n",
    "clf = DecisionTreeClassifier(random_state=42)"
   ]
  },
  {
   "cell_type": "code",
   "execution_count": 15,
   "metadata": {},
   "outputs": [],
   "source": [
    "# Definir o espaço de busca para os hiperparâmetros\n",
    "search_spaces = {\n",
    "    'max_depth': Integer(1, 66),\n",
    "    'min_samples_split': Integer(2, 6),\n",
    "    'min_samples_leaf': Integer(1, 6),\n",
    "    'max_features': Real(0.1, 1.0, prior='uniform')\n",
    "}"
   ]
  },
  {
   "cell_type": "code",
   "execution_count": 16,
   "metadata": {},
   "outputs": [],
   "source": [
    "# Configurar a busca bayesiana\n",
    "opt = BayesSearchCV(\n",
    "    estimator=clf,\n",
    "    search_spaces=search_spaces,\n",
    "    n_iter=32,  # número de iterações de busca\n",
    "    scoring='neg_mean_squared_error',\n",
    "    cv=3,\n",
    "    random_state=42\n",
    ")"
   ]
  },
  {
   "cell_type": "code",
   "execution_count": null,
   "metadata": {},
   "outputs": [
    {
     "name": "stdout",
     "output_type": "stream",
     "text": [
      "Melhores hiperparâmetros: OrderedDict({'max_depth': 49, 'max_features': 0.9454327638424945, 'min_samples_leaf': 2, 'min_samples_split': 3})\n"
     ]
    }
   ],
   "source": [
    "# Executar a busca\n",
    "opt.fit(X_train, y_train)\n",
    "\n",
    "# Melhor hiperparâmetro encontrado\n",
    "print(\"Melhores hiperparâmetros:\", opt.best_params_)"
   ]
  },
  {
   "cell_type": "code",
   "execution_count": null,
   "metadata": {},
   "outputs": [
    {
     "name": "stdout",
     "output_type": "stream",
     "text": [
      "Acurácia na base de Treino: 0.9644061743581603\n",
      "Acurácia na base de Teste: 0.9612072956207759\n",
      "\n",
      "Recall na base de Treino: 0.9644061743581603\n",
      "Recall na base de Teste: 0.9612072956207759\n",
      "\n",
      "Precisão na base de Treino: 0.9644061743581603\n",
      "Precisão na base de Teste: 0.9612072956207759\n",
      "\n",
      "F1-Score na base de Treino: 0.9644061743581603\n",
      "F1-Score na base de Teste: 0.9612072956207759\n"
     ]
    }
   ],
   "source": [
    "\n",
    "# Avaliar no conjunto de Treino\n",
    "y_pred_train = opt.predict(X_train)\n",
    "\n",
    "# Avaliar no conjunto de teste\n",
    "y_pred_test = opt.predict(X_test)\n",
    "\n",
    "# Métricas de performance da classificação\n",
    "met_clas = performance_modelo_classificacao(y_train,y_test,y_pred_train,y_pred_test)\n"
   ]
  },
  {
   "cell_type": "code",
   "execution_count": 36,
   "metadata": {},
   "outputs": [
    {
     "data": {
      "image/png": "[encoded data removed]",
      "text/plain": [
       "<Figure size 640x480 with 2 Axes>"
      ]
     },
     "metadata": {},
     "output_type": "display_data"
    }
   ],
   "source": [
    "# Matriz de confusão\n",
    "cf_matrix = confusion_matrix(y_test, y_pred_test)\n",
    "\n",
    "# Criando o heatmap\n",
    "sns.heatmap(cf_matrix, cmap='coolwarm', annot=True, linewidth=1, fmt='d')\n",
    "plt.show()"
   ]
  },
  {
   "cell_type": "markdown",
   "metadata": {},
   "source": [
    "#### Mediçoes"
   ]
  },
  {
   "cell_type": "code",
   "execution_count": 7,
   "metadata": {},
   "outputs": [
    {
     "data": {
      "text/plain": [
       "Equipamento           0\n",
       "Ponto medição         0\n",
       "Doc.medição           0\n",
       "Data                  0\n",
       "Item medição          0\n",
       "Valor teórico         0\n",
       "LimInfIntMed.         0\n",
       "LimSupIntMed.         0\n",
       "ValMed/PosTCont     958\n",
       "Unid.caracter.        0\n",
       "Cód.valorização    3574\n",
       "Txt.code codif.    3574\n",
       "Denominação           0\n",
       "Texto              7063\n",
       "dtype: int64"
      ]
     },
     "execution_count": 7,
     "metadata": {},
     "output_type": "execute_result"
    }
   ],
   "source": [
    "df_medicoes.isnull().sum()"
   ]
  },
  {
   "cell_type": "code",
   "execution_count": 8,
   "metadata": {},
   "outputs": [],
   "source": [
    "colunas_para_converter = ['Valor teórico', 'LimInfIntMed.', 'LimSupIntMed.', 'ValMed/PosTCont']\n",
    "\n",
    "for coluna in colunas_para_converter:\n",
    "    df_medicoes[coluna] = df_medicoes[coluna].apply(\n",
    "        lambda x: float(str(x).replace('.', '').replace(',', '.')) if pd.notna(x) else np.nan\n",
    "    )\n",
    "\n"
   ]
  },
  {
   "cell_type": "code",
   "execution_count": 9,
   "metadata": {},
   "outputs": [],
   "source": [
    "# Se tiver faltando a medição e a qualificação for 5, então a medição é a média da faixa de medição.\n",
    "\n",
    "aux_ = df_medicoes[df_medicoes['ValMed/PosTCont'].isna()]\n",
    "aux_ = aux_[aux_['Texto'] == '5']\n",
    "df_medicoes.loc[aux_.index, 'ValMed/PosTCont'] = (aux_['LimSupIntMed.'] - aux_['LimInfIntMed.'])/2\n"
   ]
  },
  {
   "cell_type": "code",
   "execution_count": 10,
   "metadata": {},
   "outputs": [],
   "source": [
    "# Se tiver faltando a medição e a condição for normal, então a medição é a média da faixa de medição.\n",
    "\n",
    "\n",
    "aux_ = df_medicoes[df_medicoes['ValMed/PosTCont'].isna()]\n",
    "aux_ = aux_[aux_['Txt.code codif.'] == 'CONDIÇÃO NORMAL']\n",
    "df_medicoes.loc[aux_.index, 'ValMed/PosTCont'] = (aux_['LimSupIntMed.'] - aux_['LimInfIntMed.'])/2\n"
   ]
  },
  {
   "cell_type": "code",
   "execution_count": 11,
   "metadata": {},
   "outputs": [],
   "source": [
    "df_medicoes = df_medicoes[df_medicoes['ValMed/PosTCont'].notna()]"
   ]
  },
  {
   "cell_type": "code",
   "execution_count": 12,
   "metadata": {},
   "outputs": [],
   "source": [
    "# Essas variaveis são complexas de serem preenchidas, então vamos preencher com valores desconhecidos.\n",
    "\n",
    "df_medicoes['Txt.code codif.'] = df_medicoes['Txt.code codif.'].fillna('Desconhecido')\n",
    "df_medicoes['Cód.valorização'] = df_medicoes['Cód.valorização'].fillna(-1)\n",
    "df_medicoes['Texto'] = df_medicoes['Texto'].fillna('Não Informado')\n"
   ]
  },
  {
   "cell_type": "code",
   "execution_count": 13,
   "metadata": {},
   "outputs": [
    {
     "data": {
      "text/plain": [
       "Equipamento        0\n",
       "Ponto medição      0\n",
       "Doc.medição        0\n",
       "Data               0\n",
       "Item medição       0\n",
       "Valor teórico      0\n",
       "LimInfIntMed.      0\n",
       "LimSupIntMed.      0\n",
       "ValMed/PosTCont    0\n",
       "Unid.caracter.     0\n",
       "Cód.valorização    0\n",
       "Txt.code codif.    0\n",
       "Denominação        0\n",
       "Texto              0\n",
       "dtype: int64"
      ]
     },
     "execution_count": 13,
     "metadata": {},
     "output_type": "execute_result"
    }
   ],
   "source": [
    "df_medicoes.isnull().sum()"
   ]
  },
  {
   "cell_type": "markdown",
   "metadata": {},
   "source": [
    "#### Qualificação"
   ]
  },
  {
   "cell_type": "code",
   "execution_count": 14,
   "metadata": {},
   "outputs": [],
   "source": [
    "del df_qualificacao['Valor teórico']\n",
    "del df_qualificacao['LimInfIntMed.']\n",
    "del df_qualificacao['LimSupIntMed.']\n",
    "del df_qualificacao['Cód.valorização']\n",
    "del df_qualificacao['Txt.code codif.']"
   ]
  },
  {
   "cell_type": "markdown",
   "metadata": {},
   "source": [
    "## Enriquecimento"
   ]
  },
  {
   "cell_type": "code",
   "execution_count": 15,
   "metadata": {},
   "outputs": [],
   "source": [
    "df_medicoes['Data'] = pd.to_datetime(df_medicoes['Data'], format='%d/%m/%Y', errors='coerce')\n",
    "df_medicoes['Ano'] = df_medicoes['Data'].dt.year\n",
    "df_medicoes['Mes'] = df_medicoes['Data'].dt.month\n",
    "\n",
    "df_qualificacao['Data'] = pd.to_datetime(df_qualificacao['Data'], format='%d/%m/%Y', errors='coerce')\n",
    "df_qualificacao['Ano'] = df_qualificacao['Data'].dt.year\n",
    "df_qualificacao['Mes'] = df_qualificacao['Data'].dt.month\n"
   ]
  },
  {
   "cell_type": "code",
   "execution_count": 16,
   "metadata": {},
   "outputs": [],
   "source": [
    "df_medicoes['inside_limits'] = (df_medicoes['ValMed/PosTCont'] >= df_medicoes['LimInfIntMed.']) & (df_medicoes['ValMed/PosTCont'] <= df_medicoes['LimSupIntMed.'])"
   ]
  },
  {
   "cell_type": "code",
   "execution_count": 17,
   "metadata": {},
   "outputs": [],
   "source": [
    "# Calcula o índice de desvio em relação ao intervalo esperado\n",
    "df_medicoes['desvio'] = 0  # Valor padrão para caso dentro dos limites\n",
    "\n",
    "# Caso valor > limite_sup\n",
    "mask_acima = df_medicoes['ValMed/PosTCont'] > df_medicoes['LimSupIntMed.']\n",
    "df_medicoes.loc[mask_acima, 'desvio'] = (df_medicoes.loc[mask_acima, 'ValMed/PosTCont'] - \n",
    "                                         df_medicoes.loc[mask_acima, 'LimSupIntMed.']) / df_medicoes.loc[mask_acima, 'LimSupIntMed.']\n",
    "\n",
    "# Caso valor < limite_inf\n",
    "mask_abaixo = df_medicoes['ValMed/PosTCont'] < df_medicoes['LimInfIntMed.']\n",
    "df_medicoes.loc[mask_abaixo, 'desvio'] = (df_medicoes.loc[mask_abaixo, 'ValMed/PosTCont'] - \n",
    "                                          df_medicoes.loc[mask_abaixo, 'LimInfIntMed.']) / (df_medicoes.loc[mask_abaixo, 'LimSupIntMed.'] - \n",
    "                                                                                           df_medicoes.loc[mask_abaixo, 'LimInfIntMed.'])"
   ]
  },
  {
   "cell_type": "code",
   "execution_count": 18,
   "metadata": {},
   "outputs": [],
   "source": [
    "df_medicoes.to_csv(\"./processed_data/medicoes.csv\", index=False)\n",
    "df_qualificacao.to_csv(\"./processed_data/qualificacao.csv\", index=False)\n",
    "df_cadastro.to_csv(\"./processed_data/cadastro.csv\", index=False)"
   ]
  },
  {
   "cell_type": "code",
   "execution_count": null,
   "metadata": {},
   "outputs": [],
   "source": []
  }
 ],
 "metadata": {
  "kernelspec": {
   "display_name": "Python 3 (ipykernel)",
   "language": "python",
   "name": "python3"
  },
  "language_info": {
   "codemirror_mode": {
    "name": "ipython",
    "version": 3
   },
   "file_extension": ".py",
   "mimetype": "text/x-python",
   "name": "python",
   "nbconvert_exporter": "python",
   "pygments_lexer": "ipython3",
   "version": "3.12.1"
  }
 },
 "nbformat": 4,
 "nbformat_minor": 2
}
